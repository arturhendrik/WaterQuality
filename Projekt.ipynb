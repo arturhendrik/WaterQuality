{
 "cells": [
  {
   "cell_type": "markdown",
   "id": "a710ff8c",
   "metadata": {},
   "source": [
    "<font size=3>**IMPORTID**<font>"
   ]
  },
  {
   "cell_type": "code",
   "execution_count": 6,
   "id": "88b5e037",
   "metadata": {},
   "outputs": [],
   "source": [
    "import pandas as pd\n",
    "import numpy as np\n",
    "import matplotlib.pyplot as plt\n",
    "from sklearn.ensemble import RandomForestClassifier as RFC\n",
    "from sklearn.model_selection import cross_val_score, train_test_split\n",
    "from sklearn.metrics import accuracy_score\n",
    "from time import time\n",
    "from sklearn.neighbors import KNeighborsClassifier as KNN\n",
    "from sklearn.tree import DecisionTreeClassifier as DTC\n",
    "from sklearn.svm import SVC\n",
    "from sklearn.ensemble import HistGradientBoostingClassifier as HGBC\n",
    "from sklearn.metrics import confusion_matrix\n",
    "import winsound\n",
    "pd.set_option('display.max_rows', 500)\n",
    "pd.set_option('display.max_columns', 500)"
   ]
  },
  {
   "cell_type": "markdown",
   "id": "682f9b5f",
   "metadata": {},
   "source": [
    "<font size=3>**FUNKTSIOONID**<font>"
   ]
  },
  {
   "cell_type": "code",
   "execution_count": 102,
   "id": "4556a3f8",
   "metadata": {},
   "outputs": [],
   "source": [
    "def PlotFeatures(dataframe, sub_rows):\n",
    "    cols = dataframe.columns\n",
    "\n",
    "    fig, axs = plt.subplots(sub_rows, 2, figsize=(20, 200))\n",
    "    for i in range(len(cols)-1):\n",
    "        values = dataframe[cols[i]].to_numpy()\n",
    "        df = pd.DataFrame({\"value\" : values, \"result\" : dataframe[\"compliance_2021\"]})\n",
    "        df = df.sort_values(by=\"value\")\n",
    "\n",
    "        for j in range(df[\"value\"].shape[0]):\n",
    "            if df[\"result\"].iloc[j] == 1:\n",
    "                axs[i//2, i%2].plot(j, df[\"value\"].iloc[j], \"go\")\n",
    "            else:\n",
    "                axs[i//2, i%2].plot(j, df[\"value\"].iloc[j], \"ro\", markersize=3)\n",
    "\n",
    "        axs[i//2, i%2].set_title(cols[i])\n",
    "\n",
    "    plt.show()"
   ]
  },
  {
   "cell_type": "code",
   "execution_count": 145,
   "id": "f04cb7e3",
   "metadata": {},
   "outputs": [],
   "source": [
    "def data_cleaning(file):\n",
    "    df = pd.read_csv(file).drop(columns=[\"compliance_2019\", \"compliance_2020\", \n",
    "                                                      \"Enterococci_2019\", \"Enterococci_2020\", \"Escherichia-coli-Colilert_2019\",\n",
    "                                                     \"Escherichia-coli-Colilert_2020\", \"Escherichia-coli_2019\", \"Escherichia-coli_2020\"])\n",
    "\n",
    "    station_id = df[\"station_id\"]\n",
    "    df = df.drop(columns=\"station_id\")\n",
    "\n",
    "    cols = df.columns\n",
    "\n",
    "    limit = [60, 1.5, 1.5, 300, 10, 30, 350, 8, 40, 3000, 1.75, 2000, 400, 20, 0.15, 10, 5, 3, 300, 80, 4, 10, 20, 9]\n",
    "\n",
    "    for i in range(len(cols)-1):\n",
    "        col = np.array(df[cols[i]].values.tolist())\n",
    "        df[cols[i]] = np.where(col > limit[i//2], np.nan, col).tolist()\n",
    "\n",
    "    df = df.fillna(df.mean())\n",
    "    \n",
    "    return [df, station_id]"
   ]
  },
  {
   "cell_type": "code",
   "execution_count": 185,
   "id": "e2d85aa4",
   "metadata": {},
   "outputs": [],
   "source": [
    "def data_cleaning_2(file):\n",
    "    df = pd.read_csv(file).drop(columns=[\"compliance_2019\", \"compliance_2020\", \"Color-Pt-Co-unit_2019\", \"Color-Pt-Co-unit_2020\",\n",
    "                                        \"Enterococci_2019\", \"Enterococci_2020\", \"Escherichia-coli-Colilert_2019\",\n",
    "                                        \"Escherichia-coli-Colilert_2020\", \"Escherichia-coli_2019\", \"Escherichia-coli_2020\"])\n",
    "\n",
    "    station_id = df[\"station_id\"]\n",
    "    df = df.drop(columns=\"station_id\")\n",
    "\n",
    "    cols = df.columns\n",
    "\n",
    "    limit = [60, 1.5, 1.5, 300, 10, 30, 350, 40, 3000, 1.75, 2000, 400, 20, 0.15, 10, 5, 3, 300, 80, 4, 10, 20, 9]\n",
    "\n",
    "    for i in range(len(cols)-1):\n",
    "        col = np.array(df[cols[i]].values.tolist())\n",
    "        df[cols[i]] = np.where(col > limit[i//2], np.nan, col).tolist()\n",
    "        \n",
    "    df = df.fillna(df.mean())\n",
    "    \n",
    "    return [df, station_id]"
   ]
  },
  {
   "cell_type": "code",
   "execution_count": 48,
   "id": "1f251363",
   "metadata": {},
   "outputs": [],
   "source": [
    "def data_balance(file):\n",
    "    df = pd.read_csv(file).drop(columns=[\"compliance_2019\", \"compliance_2020\", \n",
    "                                                      \"Enterococci_2019\", \"Enterococci_2020\", \"Escherichia-coli-Colilert_2019\",\n",
    "                                                     \"Escherichia-coli-Colilert_2020\", \"Escherichia-coli_2019\", \"Escherichia-coli_2020\"])\n",
    "\n",
    "    \n",
    "    positive_cases = df[df[\"compliance_2021\"] == 1]\n",
    "    negative_sample = df[df[\"compliance_2021\"] == 0].sample(132)\n",
    "    df_bal = pd.concat([positive_cases, negative_sample])\n",
    "    df_bal.sort_index(inplace=True)\n",
    "    \n",
    "    station_id = df_bal[\"station_id\"]\n",
    "    df_bal = df_bal.drop(columns=\"station_id\")\n",
    "\n",
    "    cols = df_bal.columns\n",
    "\n",
    "    limit = [60, 1.5, 1.5, 300, 10, 30, 350, 8, 40, 3000, 1.75, 2000, 400, 20, 0.15, 10, 5, 3, 300, 80, 4, 10, 20, 9]\n",
    "\n",
    "    for i in range(len(cols)-1):\n",
    "        col = np.array(df_bal[cols[i]].values.tolist())\n",
    "        df_bal[cols[i]] = np.where(col > limit[i//2], np.nan, col).tolist()\n",
    "\n",
    "    df_bal = df_bal.fillna(df_bal.mean())\n",
    "    \n",
    "    return [df_bal, station_id]"
   ]
  },
  {
   "cell_type": "markdown",
   "id": "3bdf30d8",
   "metadata": {},
   "source": [
    "<font size=6>**1. KATSE**<font>"
   ]
  },
  {
   "cell_type": "markdown",
   "id": "d2067506",
   "metadata": {},
   "source": [
    "<font size=3>**ANDMED**<font>"
   ]
  },
  {
   "cell_type": "raw",
   "id": "7df6ded8",
   "metadata": {},
   "source": [
    "train_df = pd.read_csv(\"train.csv\").drop(columns=[\"station_id\", \"compliance_2019\", \"compliance_2020\"])\n",
    "train_df = train_df.fillna(train_df.mean())"
   ]
  },
  {
   "cell_type": "markdown",
   "id": "8a9ba444",
   "metadata": {},
   "source": [
    "<font size=3>**ANDMETE KUJUTUS**<font>"
   ]
  },
  {
   "cell_type": "raw",
   "id": "093c6b7c",
   "metadata": {},
   "source": [
    "PlotFeatures(train_df, 27)"
   ]
  },
  {
   "cell_type": "markdown",
   "id": "9f8f598d",
   "metadata": {},
   "source": [
    "<font size=3>**TRAIN SETS**<font>"
   ]
  },
  {
   "cell_type": "raw",
   "id": "b2b5c9c5",
   "metadata": {},
   "source": [
    "X_train = train_df.drop(columns=\"compliance_2021\")\n",
    "y_train = train_df[\"compliance_2021\"]"
   ]
  },
  {
   "cell_type": "markdown",
   "id": "2fed1985",
   "metadata": {},
   "source": [
    "<font size=3>**PARIM RFC**<font> (runtime ~ 1 min) <br>\n",
    "<font size=1>RFC(max_depth = 18, min_samples_split = 2, min_samples_leaf = 4) <br>\n",
    "    acc = 84.5<font>"
   ]
  },
  {
   "cell_type": "raw",
   "id": "f38a9071",
   "metadata": {},
   "source": [
    "start = time()\n",
    "\n",
    "all_params = []\n",
    "all_acc = []\n",
    "\n",
    "for leaf in range(1,10,3):\n",
    "    for split in range(2,10,3):\n",
    "        for depth in range(8,20):\n",
    "            model = RFC(max_depth = depth, min_samples_split = split, min_samples_leaf = leaf)\n",
    "            params = model.get_params()\n",
    "\n",
    "            acc = cross_val_score(model, X_train, y_train, cv = 5).mean()\n",
    "\n",
    "            all_params.append(params)\n",
    "            all_acc.append(acc)\n",
    "                \n",
    "\n",
    "df_results = pd.DataFrame({\"params\" : all_params, \"acc\" : all_acc}).sort_values(by=\"acc\", ascending=False)\n",
    "\n",
    "print(\"Time: {} s\\n\".format(round(time()-start, 2)))\n",
    "print(\"Acc: {} %\\n\".format(round(df_results.iloc[0].acc, 4)*100))\n",
    "print(df_results.iloc[0].params)"
   ]
  },
  {
   "cell_type": "markdown",
   "id": "2b9c6fb9",
   "metadata": {},
   "source": [
    "<font size=3>**TESTIMINE**<font>"
   ]
  },
  {
   "cell_type": "raw",
   "id": "1fd1715c",
   "metadata": {},
   "source": [
    "test_df = pd.read_csv(\"test.csv\").drop(columns=[\"compliance_2019\", \"compliance_2020\"])\n",
    "test_df = test_df.fillna(train_df.mean())\n",
    "station_id = test_df[\"station_id\"]\n",
    "test_df = test_df.drop(columns=\"station_id\")\n",
    "\n",
    "\n",
    "model = RFC(max_depth = 15, min_samples_split = 2, min_samples_leaf = 4).fit(X_train, y_train)\n",
    "results = model.predict(test_df)\n",
    "results_df = pd.DataFrame({\"station_id\" : station_id, \"compliance_2021\" : results})\n",
    "results_df.to_csv(\"RFC_1.csv\", index = False)"
   ]
  },
  {
   "cell_type": "markdown",
   "id": "9fe06bee",
   "metadata": {},
   "source": [
    "<font size=6>**2. KATSE**<font>"
   ]
  },
  {
   "cell_type": "markdown",
   "id": "8ea18b86",
   "metadata": {},
   "source": [
    "<font size=3>**ANDMED**<font>"
   ]
  },
  {
   "cell_type": "raw",
   "id": "30b92d81",
   "metadata": {},
   "source": [
    "train_df = data_cleaning(\"train.csv\")[0]"
   ]
  },
  {
   "cell_type": "markdown",
   "id": "2d424553",
   "metadata": {},
   "source": [
    "<font size=3>**ANDMETE KUJUTUS**<font>"
   ]
  },
  {
   "cell_type": "raw",
   "id": "f8a96882",
   "metadata": {},
   "source": [
    "PlotFeatures(train_df, 24)"
   ]
  },
  {
   "cell_type": "markdown",
   "id": "6099d99e",
   "metadata": {},
   "source": [
    "<font size=3>**TRAIN SETS**<font>"
   ]
  },
  {
   "cell_type": "raw",
   "id": "3d48d542",
   "metadata": {},
   "source": [
    "X_train = train_df.drop(columns=\"compliance_2021\")\n",
    "y_train = train_df[\"compliance_2021\"]"
   ]
  },
  {
   "cell_type": "markdown",
   "id": "f6ffab5a",
   "metadata": {},
   "source": [
    "<font size=3>**TESTIMINE**<font>"
   ]
  },
  {
   "cell_type": "raw",
   "id": "d3690327",
   "metadata": {},
   "source": [
    "test_df, station_id = data_cleaning(\"test.csv\")\n",
    "\n",
    "model = RFC(max_depth = 15, min_samples_split = 2, min_samples_leaf = 4).fit(X_train, y_train)\n",
    "results = model.predict(test_df)\n",
    "results_df = pd.DataFrame({\"station_id\" : station_id, \"compliance_2021\" : results})\n",
    "results_df.to_csv(\"RFC_cleaned_data.csv\", index = False)"
   ]
  },
  {
   "cell_type": "markdown",
   "id": "036df60c",
   "metadata": {},
   "source": [
    "<font size=6>**3. KATSE**<font>"
   ]
  },
  {
   "cell_type": "markdown",
   "id": "f15c1644",
   "metadata": {},
   "source": [
    "<font size=3>**ANDMED**<font>"
   ]
  },
  {
   "cell_type": "raw",
   "id": "15ba615b",
   "metadata": {},
   "source": [
    "def data_cleaning_0(file):\n",
    "    df = pd.read_csv(file).drop(columns=[\"compliance_2019\", \"compliance_2020\", \n",
    "                                                      \"Enterococci_2019\", \"Enterococci_2020\", \"Escherichia-coli-Colilert_2019\",\n",
    "                                                     \"Escherichia-coli-Colilert_2020\", \"Escherichia-coli_2019\", \"Escherichia-coli_2020\"])\n",
    "\n",
    "    station_id = df[\"station_id\"]\n",
    "    df = df.drop(columns=\"station_id\")\n",
    "\n",
    "    cols = df.columns\n",
    "\n",
    "    limit = [60, 1.5, 1.5, 300, 10, 30, 350, 8, 40, 3000, 1.75, 2000, 400, 20, 0.15, 10, 5, 3, 300, 80, 4, 10, 20, 9]\n",
    "\n",
    "    for i in range(len(cols)-1):\n",
    "        col = np.array(df[cols[i]].values.tolist())\n",
    "        df[cols[i]] = np.where(col > limit[i//2], np.nan, col).tolist()\n",
    "\n",
    "    df = df.fillna(0)\n",
    "    \n",
    "    return [df, station_id]\n",
    "    \n",
    "train_df = data_cleaning(\"train.csv\")[0]"
   ]
  },
  {
   "cell_type": "markdown",
   "id": "ef3400f6",
   "metadata": {},
   "source": [
    "<font size=3>**TRAIN SETS**<font>"
   ]
  },
  {
   "cell_type": "raw",
   "id": "df23116c",
   "metadata": {},
   "source": [
    "X_train = train_df.drop(columns=\"compliance_2021\")\n",
    "y_train = train_df[\"compliance_2021\"]"
   ]
  },
  {
   "cell_type": "markdown",
   "id": "45f1533d",
   "metadata": {},
   "source": [
    "<font size=3>**TESTIMINE**<font>"
   ]
  },
  {
   "cell_type": "raw",
   "id": "6d529667",
   "metadata": {},
   "source": [
    "test_df, station_id = data_cleaning_0(\"test.csv\")\n",
    "\n",
    "model = RFC(max_depth = 15, min_samples_split = 2, min_samples_leaf = 4).fit(X_train, y_train)\n",
    "results = model.predict(test_df)\n",
    "results_df = pd.DataFrame({\"station_id\" : station_id, \"compliance_2021\" : results})\n",
    "results_df.to_csv(\"RFC_cleaned_data_0.csv\", index = False)"
   ]
  },
  {
   "cell_type": "markdown",
   "id": "d2e02e21",
   "metadata": {},
   "source": [
    "<font size=6>**4. KATSE**<font>"
   ]
  },
  {
   "cell_type": "markdown",
   "id": "994522f7",
   "metadata": {},
   "source": [
    "<font size=3>**ANDMED**<font>"
   ]
  },
  {
   "cell_type": "raw",
   "id": "e6810307",
   "metadata": {},
   "source": [
    "train_df = data_cleaning(\"train.csv\")[0]"
   ]
  },
  {
   "cell_type": "markdown",
   "id": "200c771e",
   "metadata": {},
   "source": [
    "<font size=3>**TRAIN SETS**<font>"
   ]
  },
  {
   "cell_type": "raw",
   "id": "33e95607",
   "metadata": {},
   "source": [
    "X_train = train_df.drop(columns=\"compliance_2021\")\n",
    "y_train = train_df[\"compliance_2021\"]"
   ]
  },
  {
   "cell_type": "markdown",
   "id": "ff228d06",
   "metadata": {},
   "source": [
    "<font size=3>**ERINEVAD MUDELID**<font>"
   ]
  },
  {
   "cell_type": "markdown",
   "id": "f4343876",
   "metadata": {},
   "source": [
    "<font size=2>**RFC**<font> (runtime ~ 6.2 h) <br>\n",
    "<font size=1>RFC(criterion = \"gini\", n_estimators = 10, max_depth = 13, min_samples_split = 2, min_samples_leaf = 3) <br>\n",
    "    acc = 85.9<font>"
   ]
  },
  {
   "cell_type": "raw",
   "id": "679329eb",
   "metadata": {},
   "source": [
    "start = time()\n",
    "\n",
    "all_params = []\n",
    "all_acc = []\n",
    "\n",
    "for leaf in range(1,10,2):\n",
    "    for split in range(2,10,2):\n",
    "        for depth in range(8,20):\n",
    "            for crit in [\"gini\", \"entropy\"]:\n",
    "                for n in range(10,401,10):\n",
    "                    model = RFC(criterion = crit, n_estimators = n, max_depth = depth, min_samples_split = split, min_samples_leaf = leaf)\n",
    "                    params = model.get_params()\n",
    "\n",
    "                    acc = cross_val_score(model, X_train, y_train, cv = 5).mean()\n",
    "\n",
    "                    all_params.append(params)\n",
    "                    all_acc.append(acc)\n",
    "                \n",
    "\n",
    "df_results = pd.DataFrame({\"params\" : all_params, \"acc\" : all_acc}).sort_values(by=\"acc\", ascending=False)\n",
    "\n",
    "print(\"Time: {} s\\n\".format(round(time()-start, 2)))\n",
    "print(\"Acc: {} %\\n\".format(round(df_results.iloc[0].acc, 4)*100))\n",
    "print(df_results.iloc[0].params)"
   ]
  },
  {
   "cell_type": "markdown",
   "id": "d1495261",
   "metadata": {},
   "source": [
    "<font size=2>**KNN**<font>  (runtime ~ 8 min)<br>\n",
    "<font size=1>KNN(n_neighbors = 13, metric = \"euclidean\", leaf_size = 28) <br>\n",
    "    acc = 85.2<font>"
   ]
  },
  {
   "cell_type": "raw",
   "id": "e4d967d1",
   "metadata": {},
   "source": [
    "start = time()\n",
    "\n",
    "all_params = []\n",
    "all_acc = []\n",
    "\n",
    "for leaf in range(10,101):\n",
    "    for nr in range(1,20):\n",
    "        for met in [\"cityblock\", \"cosine\", \"euclidean\"]:\n",
    "            model = KNN(n_neighbors = nr, metric = met, leaf_size = leaf)\n",
    "            params = model.get_params()\n",
    "            \n",
    "            acc = cross_val_score(model, X_train, y_train, cv = 5).mean()   \n",
    "            \n",
    "            all_params.append(params)\n",
    "            all_acc.append(acc)\n",
    "        \n",
    "df_results = pd.DataFrame({\"params\" : all_params, \"acc\" : all_acc}).sort_values(by=\"acc\", ascending=False)\n",
    "\n",
    "print(\"Time: {} s\\n\".format(round(time()-start, 2)))\n",
    "print(\"Acc: {} %\\n\".format(round(df_results.iloc[0].acc, 4)*100))\n",
    "print(df_results.iloc[0].params)"
   ]
  },
  {
   "cell_type": "markdown",
   "id": "97ebbac7",
   "metadata": {},
   "source": [
    "<font size=2>**DTC**<font> (runtime ~ 46 s)<br>\n",
    "<font size=1>DTC(criterion = \"gini\", max_depth = 8, min_samples_split = 9, min_samples_leaf = 2) <br>\n",
    "    acc = 82.1<font>"
   ]
  },
  {
   "cell_type": "raw",
   "id": "abb64f4c",
   "metadata": {},
   "source": [
    "start = time()\n",
    "\n",
    "all_params = []\n",
    "all_acc = []\n",
    "\n",
    "for crit in [\"gini\", \"entropy\"]:\n",
    "    for leaf in range(1,10):\n",
    "        for split in range(2,10):\n",
    "            for depth in range(8,20):\n",
    "                model = DTC(criterion = crit, max_depth = depth, min_samples_split = split, min_samples_leaf = leaf)\n",
    "                params = model.get_params()\n",
    "                \n",
    "                acc = cross_val_score(model, X_train, y_train, cv = 5).mean()\n",
    "                   \n",
    "                all_params.append(params)\n",
    "                all_acc.append(acc)\n",
    "\n",
    "df_results = pd.DataFrame({\"params\" : all_params, \"acc\" : all_acc}).sort_values(by=\"acc\", ascending=False)\n",
    "\n",
    "print(\"Time: {} s\\n\".format(round(time()-start, 2)))\n",
    "print(\"Acc: {} %\\n\".format(round(df_results.iloc[0].acc, 4)*100))\n",
    "print(df_results.iloc[0].params)"
   ]
  },
  {
   "cell_type": "markdown",
   "id": "11a1c74e",
   "metadata": {},
   "source": [
    "<font size=2>**SVC (auto)**<font> (runtime ~ 1 min) <br>\n",
    "<font size=1>acc = 73<font>"
   ]
  },
  {
   "cell_type": "raw",
   "id": "7eaeb21e",
   "metadata": {},
   "source": [
    "start = time()\n",
    "\n",
    "model = SVC(kernel = \"poly\", gamma = \"auto\")\n",
    "acc = cross_val_score(model, X_train, y_train, cv = 5).mean()\n",
    "\n",
    "print(\"Time: {} s\\n\".format(round(time()-start, 2)))\n",
    "acc"
   ]
  },
  {
   "cell_type": "markdown",
   "id": "5661d430",
   "metadata": {},
   "source": [
    "<font size=2>**SVC (scale)**<font> (runtime ~ 1 s)<br>\n",
    "<font size=1>acc = 84.7<font>"
   ]
  },
  {
   "cell_type": "raw",
   "id": "1ac62bdc",
   "metadata": {},
   "source": [
    "start = time()\n",
    "\n",
    "model = SVC(kernel = \"poly\", gamma = \"scale\")\n",
    "acc = cross_val_score(model, X_train, y_train, cv = 5).mean()\n",
    "\n",
    "print(\"Time: {} s\\n\".format(round(time()-start, 2)))\n",
    "acc"
   ]
  },
  {
   "cell_type": "markdown",
   "id": "51c0b38d",
   "metadata": {},
   "source": [
    "<font size=6>**5. KATSE**<font>"
   ]
  },
  {
   "cell_type": "markdown",
   "id": "d4ca4b2f",
   "metadata": {},
   "source": [
    "<font size=3>**ANDMED**<font>"
   ]
  },
  {
   "cell_type": "raw",
   "id": "0d26dbad",
   "metadata": {},
   "source": [
    "train_df = pd.read_csv(\"train.csv\").drop(columns=[\"station_id\", \"compliance_2019\", \"compliance_2020\"])"
   ]
  },
  {
   "cell_type": "markdown",
   "id": "ded09221",
   "metadata": {},
   "source": [
    "<font size=3>**ANDMETE KUJUTUS**<font>"
   ]
  },
  {
   "cell_type": "raw",
   "id": "79ffc39d",
   "metadata": {},
   "source": [
    "PlotFeatures(train_df, 27)"
   ]
  },
  {
   "cell_type": "markdown",
   "id": "db0fe023",
   "metadata": {},
   "source": [
    "<font size=3>**TRAIN SETS**<font>"
   ]
  },
  {
   "cell_type": "raw",
   "id": "d33aa54b",
   "metadata": {},
   "source": [
    "X_train = train_df.drop(columns=\"compliance_2021\")\n",
    "y_train = train_df[\"compliance_2021\"]"
   ]
  },
  {
   "cell_type": "markdown",
   "id": "4f7bcf5d",
   "metadata": {},
   "source": [
    "<font size=2>**HGBC**<font> (runtime ~ 48 s) <br>\n",
    "<font size=1>HGBC(learning_rate = 0.01, max_iter = 100) <br>\n",
    "    acc = 85<font>"
   ]
  },
  {
   "cell_type": "raw",
   "id": "d98ec7ab",
   "metadata": {},
   "source": [
    "start = time()\n",
    "\n",
    "all_params = []\n",
    "all_acc = []\n",
    "\n",
    "for rate in [0.01, 0.05, 0.1]:\n",
    "    for iteration in range(100, 500, 100):\n",
    "        model = HGBC(learning_rate = rate, max_iter = iteration)\n",
    "        params = model.get_params()\n",
    "\n",
    "        acc = cross_val_score(model, X_train, y_train, cv = 5).mean()\n",
    "\n",
    "        all_params.append(params)\n",
    "        all_acc.append(acc)\n",
    "                \n",
    "\n",
    "df_results = pd.DataFrame({\"params\" : all_params, \"acc\" : all_acc}).sort_values(by=\"acc\", ascending=False)\n",
    "\n",
    "print(\"Time: {} s\\n\".format(round(time()-start, 2)))\n",
    "print(\"Acc: {} %\\n\".format(round(df_results.iloc[0].acc, 4)*100))\n",
    "print(df_results.iloc[0].params)"
   ]
  },
  {
   "cell_type": "markdown",
   "id": "4dfa354a",
   "metadata": {},
   "source": [
    "<font size=2>**HGBC**<font> (runtime ~ 10 s) <br>\n",
    "<font size=1>HGBC(learning_rate = 0.01, max_iter = 100, max_depth = 5) <br>\n",
    "    acc = 85.2<font>"
   ]
  },
  {
   "cell_type": "raw",
   "id": "303b3afa",
   "metadata": {},
   "source": [
    "start = time()\n",
    "\n",
    "all_params = []\n",
    "all_acc = []\n",
    "\n",
    "for depth in range(1,10):\n",
    "    model = HGBC(learning_rate = 0.01, max_iter = 100, max_depth = depth)\n",
    "    params = model.get_params()\n",
    "\n",
    "    acc = cross_val_score(model, X_train, y_train, cv = 5).mean()\n",
    "\n",
    "    all_params.append(params)\n",
    "    all_acc.append(acc)\n",
    "                \n",
    "\n",
    "df_results = pd.DataFrame({\"params\" : all_params, \"acc\" : all_acc}).sort_values(by=\"acc\", ascending=False)\n",
    "\n",
    "print(\"Time: {} s\\n\".format(round(time()-start, 2)))\n",
    "print(\"Acc: {} %\\n\".format(round(df_results.iloc[0].acc, 4)*100))\n",
    "print(df_results.iloc[0].params)"
   ]
  },
  {
   "cell_type": "markdown",
   "id": "1fc9b67a",
   "metadata": {},
   "source": [
    "<font size=3>**TESTIMINE**<font>"
   ]
  },
  {
   "cell_type": "raw",
   "id": "4d6165e2",
   "metadata": {},
   "source": [
    "test_df = pd.read_csv(\"test.csv\").drop(columns=[\"compliance_2019\", \"compliance_2020\"])\n",
    "station_id = test_df[\"station_id\"]\n",
    "test_df = test_df.drop(columns=\"station_id\")\n",
    "\n",
    "\n",
    "model = HGBC(learning_rate = 0.01, max_iter = 100, max_depth = 5).fit(X_train, y_train)\n",
    "results = model.predict(test_df)\n",
    "results_df = pd.DataFrame({\"station_id\" : station_id, \"compliance_2021\" : results})\n",
    "results_df.to_csv(\"HGBC_2.csv\", index = False)"
   ]
  },
  {
   "cell_type": "markdown",
   "id": "ed5e8c90",
   "metadata": {},
   "source": [
    "<font size=6>**6. KATSE**<font>"
   ]
  },
  {
   "cell_type": "markdown",
   "id": "d241d4da",
   "metadata": {},
   "source": [
    "<font size=3>**ANDMED**<font>"
   ]
  },
  {
   "cell_type": "raw",
   "id": "2e832bf9",
   "metadata": {},
   "source": [
    "def data_cleaning_nan_not_dropped(file):\n",
    "    df = pd.read_csv(file).drop(columns=[\"compliance_2019\", \"compliance_2020\", \n",
    "                                                      \"Enterococci_2019\", \"Enterococci_2020\", \"Escherichia-coli-Colilert_2019\",\n",
    "                                                     \"Escherichia-coli-Colilert_2020\", \"Escherichia-coli_2019\", \"Escherichia-coli_2020\"])\n",
    "\n",
    "    station_id = df[\"station_id\"]\n",
    "    df = df.drop(columns=\"station_id\")\n",
    "\n",
    "    cols = df.columns\n",
    "\n",
    "    limit = [60, 1.5, 1.5, 300, 10, 30, 350, 8, 40, 3000, 1.75, 2000, 400, 20, 0.15, 10, 5, 3, 300, 80, 4, 10, 20, 9]\n",
    "\n",
    "    for i in range(len(cols)-1):\n",
    "        col = np.array(df[cols[i]].values.tolist())\n",
    "        df[cols[i]] = np.where(col > limit[i//2], np.nan, col).tolist()\n",
    "    \n",
    "    return [df, station_id]\n",
    "    \n",
    "train_df = data_cleaning_nan_not_dropped(\"train.csv\")[0]"
   ]
  },
  {
   "cell_type": "markdown",
   "id": "330a2edb",
   "metadata": {},
   "source": [
    "<font size=3>**ANDMETE KUJUTUS**<font>"
   ]
  },
  {
   "cell_type": "raw",
   "id": "0c0041ec",
   "metadata": {},
   "source": [
    "PlotFeatures(train_df, 27)"
   ]
  },
  {
   "cell_type": "markdown",
   "id": "2c70f0f4",
   "metadata": {},
   "source": [
    "<font size=3>**TRAIN SETS**<font>"
   ]
  },
  {
   "cell_type": "raw",
   "id": "af5e00c7",
   "metadata": {},
   "source": [
    "X_train = train_df.drop(columns=\"compliance_2021\")\n",
    "y_train = train_df[\"compliance_2021\"]"
   ]
  },
  {
   "cell_type": "markdown",
   "id": "0d5b596c",
   "metadata": {},
   "source": [
    "<font size=2>**HGBC**<font> (runtime ~ 7 s) <br>\n",
    "<font size=1>HGBC(learning_rate = 0.01) <br>\n",
    "    acc = 85<font>"
   ]
  },
  {
   "cell_type": "raw",
   "id": "b086fd4b",
   "metadata": {},
   "source": [
    "start = time()\n",
    "\n",
    "all_params = []\n",
    "all_acc = []\n",
    "\n",
    "for rate in [0.01, 0.02, 0.03, 0.5, 0.1]:\n",
    "    model = HGBC(learning_rate = rate)\n",
    "    params = model.get_params()\n",
    "\n",
    "    acc = cross_val_score(model, X_train, y_train, cv = 5).mean()\n",
    "\n",
    "    all_params.append(params)\n",
    "    all_acc.append(acc)\n",
    "                \n",
    "\n",
    "df_results = pd.DataFrame({\"params\" : all_params, \"acc\" : all_acc}).sort_values(by=\"acc\", ascending=False)\n",
    "\n",
    "print(\"Time: {} s\\n\".format(round(time()-start, 2)))\n",
    "print(\"Acc: {} %\\n\".format(round(df_results.iloc[0].acc, 4)*100))\n",
    "print(df_results.iloc[0].params)"
   ]
  },
  {
   "cell_type": "markdown",
   "id": "7acd280d",
   "metadata": {},
   "source": [
    "<font size=2>**HGBC**<font> (runtime ~ 32 s) <br>\n",
    "<font size=1>HGBC(learning_rate = 0.01, min_samples_leaf = 9) <br>\n",
    "    acc = 85.2<font>"
   ]
  },
  {
   "cell_type": "raw",
   "id": "c7f392e0",
   "metadata": {},
   "source": [
    "start = time()\n",
    "\n",
    "all_params = []\n",
    "all_acc = []\n",
    "\n",
    "for leaf in range(1,10):\n",
    "    model = HGBC(learning_rate = 0.01, min_samples_leaf = leaf)\n",
    "    params = model.get_params()\n",
    "\n",
    "    acc = cross_val_score(model, X_train, y_train, cv = 5).mean()\n",
    "\n",
    "    all_params.append(params)\n",
    "    all_acc.append(acc)\n",
    "                \n",
    "\n",
    "df_results = pd.DataFrame({\"params\" : all_params, \"acc\" : all_acc}).sort_values(by=\"acc\", ascending=False)\n",
    "\n",
    "print(\"Time: {} s\\n\".format(round(time()-start, 2)))\n",
    "print(\"Acc: {} %\\n\".format(round(df_results.iloc[0].acc, 4)*100))\n",
    "print(df_results.iloc[0].params)"
   ]
  },
  {
   "cell_type": "markdown",
   "id": "8c6ed350",
   "metadata": {},
   "source": [
    "<font size=3>**TESTIMINE**<font>"
   ]
  },
  {
   "cell_type": "raw",
   "id": "0e6892a6",
   "metadata": {},
   "source": [
    "test_df, station_id = data_cleaning_nan_not_dropped(\"test.csv\")\n",
    "\n",
    "model = HGBC(learning_rate = 0.01, min_samples_leaf = 9).fit(X_train, y_train)\n",
    "results = model.predict(test_df)\n",
    "results_df = pd.DataFrame({\"station_id\" : station_id, \"compliance_2021\" : results})\n",
    "results_df.to_csv(\"HGBC_data_cleaning_nan_not_dropped.csv\", index = False)"
   ]
  },
  {
   "cell_type": "markdown",
   "id": "62c5c22a",
   "metadata": {},
   "source": [
    "<font size=6>**7. KATSE**<font>"
   ]
  },
  {
   "cell_type": "markdown",
   "id": "9d9a0df9",
   "metadata": {},
   "source": [
    "<font size=3>**ANDMED**<font>"
   ]
  },
  {
   "cell_type": "code",
   "execution_count": 162,
   "id": "9a675f82",
   "metadata": {},
   "outputs": [],
   "source": [
    "train_df = data_cleaning(\"train.csv\")[0]"
   ]
  },
  {
   "cell_type": "markdown",
   "id": "e0060068",
   "metadata": {},
   "source": [
    "<font size=3>**TRAIN SETS**<font>"
   ]
  },
  {
   "cell_type": "code",
   "execution_count": 163,
   "id": "70b08d51",
   "metadata": {},
   "outputs": [],
   "source": [
    "X = train_df.drop(columns=\"compliance_2021\")\n",
    "y = train_df[\"compliance_2021\"]\n",
    "\n",
    "X_train, X_val, y_train, y_val = train_test_split(X, y, test_size=0.2)"
   ]
  },
  {
   "cell_type": "markdown",
   "id": "ded4e850",
   "metadata": {},
   "source": [
    "<font size=3>**RFC CONFUSION MATRIX**<font>"
   ]
  },
  {
   "cell_type": "code",
   "execution_count": 164,
   "id": "cdc74552",
   "metadata": {},
   "outputs": [
    {
     "name": "stdout",
     "output_type": "stream",
     "text": [
      "Confusion matrix:\n",
      "[[ 0 12]\n",
      " [ 0 76]]\n"
     ]
    }
   ],
   "source": [
    "model = RFC(criterion = \"gini\", n_estimators = 10, max_depth = 13, \n",
    "            min_samples_split = 2, min_samples_leaf = 3).fit(X_train, y_train)\n",
    "\n",
    "pred = model.predict(X_val)\n",
    "\n",
    "matrix = confusion_matrix(y_val.values, pred, labels=[1,0])\n",
    "print(\"Confusion matrix:\\n%s\" % matrix)"
   ]
  },
  {
   "cell_type": "markdown",
   "id": "60b9fe77",
   "metadata": {},
   "source": [
    "<font size=3>**KNN CONFUSION MATRIX**<font>"
   ]
  },
  {
   "cell_type": "code",
   "execution_count": 165,
   "id": "e17f80e0",
   "metadata": {},
   "outputs": [
    {
     "name": "stdout",
     "output_type": "stream",
     "text": [
      "Confusion matrix:\n",
      "[[ 0 12]\n",
      " [ 0 76]]\n"
     ]
    }
   ],
   "source": [
    "model = KNN(n_neighbors = 13, metric = \"euclidean\", leaf_size = 28).fit(X_train, y_train)\n",
    "\n",
    "pred = model.predict(X_val)\n",
    "\n",
    "matrix = confusion_matrix(y_val.values, pred, labels=[1,0])\n",
    "print(\"Confusion matrix:\\n%s\" % matrix)"
   ]
  },
  {
   "cell_type": "markdown",
   "id": "83dd24ef",
   "metadata": {},
   "source": [
    "<font size=3>**SVC (auto) CONFUSION MATRIX**<font>"
   ]
  },
  {
   "cell_type": "code",
   "execution_count": 166,
   "id": "a1d42afe",
   "metadata": {},
   "outputs": [
    {
     "name": "stdout",
     "output_type": "stream",
     "text": [
      "Confusion matrix:\n",
      "[[ 5  7]\n",
      " [12 64]]\n"
     ]
    }
   ],
   "source": [
    "model = SVC(kernel = \"poly\", gamma = \"auto\").fit(X_train, y_train)\n",
    "\n",
    "pred = model.predict(X_val)\n",
    "\n",
    "matrix = confusion_matrix(y_val.values, pred, labels=[1,0])\n",
    "print(\"Confusion matrix:\\n%s\" % matrix)"
   ]
  },
  {
   "cell_type": "markdown",
   "id": "0227c901",
   "metadata": {},
   "source": [
    "<font size=3>**SVC (scale) CONFUSION MATRIX**<font>"
   ]
  },
  {
   "cell_type": "code",
   "execution_count": 174,
   "id": "48723e9a",
   "metadata": {},
   "outputs": [
    {
     "name": "stdout",
     "output_type": "stream",
     "text": [
      "Confusion matrix:\n",
      "[[ 1 11]\n",
      " [ 0 76]]\n"
     ]
    }
   ],
   "source": [
    "model = SVC(kernel = \"poly\", gamma = \"scale\").fit(X_train, y_train)\n",
    "\n",
    "pred = model.predict(X_val)\n",
    "\n",
    "matrix = confusion_matrix(y_val.values, pred, labels=[1,0])\n",
    "print(\"Confusion matrix:\\n%s\" % matrix)"
   ]
  },
  {
   "cell_type": "markdown",
   "id": "00d23c47",
   "metadata": {},
   "source": [
    "<font size=3>**HGBC CONFUSION MATRIX**<font>"
   ]
  },
  {
   "cell_type": "code",
   "execution_count": 168,
   "id": "09897d9d",
   "metadata": {},
   "outputs": [
    {
     "name": "stdout",
     "output_type": "stream",
     "text": [
      "Confusion matrix:\n",
      "[[ 0 12]\n",
      " [ 0 76]]\n"
     ]
    }
   ],
   "source": [
    "model = HGBC(learning_rate = 0.01, max_iter = 100, max_depth = 5).fit(X_train, y_train)\n",
    "\n",
    "pred = model.predict(X_val)\n",
    "\n",
    "matrix = confusion_matrix(y_val.values, pred, labels=[1,0])\n",
    "print(\"Confusion matrix:\\n%s\" % matrix)"
   ]
  },
  {
   "cell_type": "markdown",
   "id": "2a422695",
   "metadata": {},
   "source": [
    "<font size=6>**8. KATSE**<font>"
   ]
  },
  {
   "cell_type": "markdown",
   "id": "f9fff777",
   "metadata": {},
   "source": [
    "<font size=3>**ANDMED**<font>"
   ]
  },
  {
   "cell_type": "code",
   "execution_count": 57,
   "id": "8cbaa737",
   "metadata": {},
   "outputs": [],
   "source": [
    "train_df = data_balance(\"train.csv\")[0]"
   ]
  },
  {
   "cell_type": "markdown",
   "id": "2aab8cc0",
   "metadata": {},
   "source": [
    "<font size=3>**TRAIN SETS**<font>"
   ]
  },
  {
   "cell_type": "code",
   "execution_count": 58,
   "id": "711c0af9",
   "metadata": {},
   "outputs": [],
   "source": [
    "X = train_df.drop(columns=\"compliance_2021\")\n",
    "y = train_df[\"compliance_2021\"]\n",
    "\n",
    "X_train, X_val, y_train, y_val = train_test_split(X, y, test_size=0.2)"
   ]
  },
  {
   "cell_type": "markdown",
   "id": "64dd4f12",
   "metadata": {},
   "source": [
    "<font size=3>**RFC CONFUSION MATRIX**<font>"
   ]
  },
  {
   "cell_type": "code",
   "execution_count": 59,
   "id": "a134a41f",
   "metadata": {},
   "outputs": [
    {
     "name": "stdout",
     "output_type": "stream",
     "text": [
      "Confusion matrix:\n",
      "[[ 4  5]\n",
      " [ 8 23]]\n"
     ]
    }
   ],
   "source": [
    "model = RFC(criterion = \"gini\", n_estimators = 10, max_depth = 13, \n",
    "            min_samples_split = 2, min_samples_leaf = 3).fit(X_train, y_train)\n",
    "\n",
    "pred = model.predict(X_val)\n",
    "\n",
    "matrix = confusion_matrix(y_val.values, pred, labels=[1,0])\n",
    "print(\"Confusion matrix:\\n%s\" % matrix)"
   ]
  },
  {
   "cell_type": "markdown",
   "id": "601e1386",
   "metadata": {},
   "source": [
    "<font size=3>**KNN CONFUSION MATRIX**<font>"
   ]
  },
  {
   "cell_type": "code",
   "execution_count": 60,
   "id": "b0e3a0eb",
   "metadata": {},
   "outputs": [
    {
     "name": "stdout",
     "output_type": "stream",
     "text": [
      "Confusion matrix:\n",
      "[[ 0  9]\n",
      " [ 4 27]]\n"
     ]
    }
   ],
   "source": [
    "model = KNN(n_neighbors = 13, metric = \"euclidean\", leaf_size = 28).fit(X_train, y_train)\n",
    "\n",
    "pred = model.predict(X_val)\n",
    "\n",
    "matrix = confusion_matrix(y_val.values, pred, labels=[1,0])\n",
    "print(\"Confusion matrix:\\n%s\" % matrix)"
   ]
  },
  {
   "cell_type": "markdown",
   "id": "f1b89f1a",
   "metadata": {},
   "source": [
    "<font size=3>**SVC (auto) CONFUSION MATRIX**<font>"
   ]
  },
  {
   "cell_type": "code",
   "execution_count": 61,
   "id": "e29c9bcc",
   "metadata": {},
   "outputs": [
    {
     "name": "stdout",
     "output_type": "stream",
     "text": [
      "Confusion matrix:\n",
      "[[ 5  4]\n",
      " [11 20]]\n"
     ]
    }
   ],
   "source": [
    "model = SVC(kernel = \"poly\", gamma = \"auto\").fit(X_train, y_train)\n",
    "\n",
    "pred = model.predict(X_val)\n",
    "\n",
    "matrix = confusion_matrix(y_val.values, pred, labels=[1,0])\n",
    "print(\"Confusion matrix:\\n%s\" % matrix)"
   ]
  },
  {
   "cell_type": "markdown",
   "id": "690c5a1d",
   "metadata": {},
   "source": [
    "<font size=3>**SVC (scale) CONFUSION MATRIX**<font>"
   ]
  },
  {
   "cell_type": "code",
   "execution_count": 62,
   "id": "62e059b1",
   "metadata": {},
   "outputs": [
    {
     "name": "stdout",
     "output_type": "stream",
     "text": [
      "Confusion matrix:\n",
      "[[ 1  8]\n",
      " [ 0 31]]\n"
     ]
    }
   ],
   "source": [
    "model = SVC(kernel = \"poly\", gamma = \"scale\").fit(X_train, y_train)\n",
    "\n",
    "pred = model.predict(X_val)\n",
    "\n",
    "matrix = confusion_matrix(y_val.values, pred, labels=[1,0])\n",
    "print(\"Confusion matrix:\\n%s\" % matrix)"
   ]
  },
  {
   "cell_type": "markdown",
   "id": "8ba5969c",
   "metadata": {},
   "source": [
    "<font size=3>**HGBC CONFUSION MATRIX**<font>"
   ]
  },
  {
   "cell_type": "code",
   "execution_count": 63,
   "id": "b766f830",
   "metadata": {},
   "outputs": [
    {
     "name": "stdout",
     "output_type": "stream",
     "text": [
      "Confusion matrix:\n",
      "[[ 2  7]\n",
      " [ 4 27]]\n"
     ]
    }
   ],
   "source": [
    "model = HGBC(learning_rate = 0.01, max_iter = 100, max_depth = 5).fit(X_train, y_train)\n",
    "\n",
    "pred = model.predict(X_val)\n",
    "\n",
    "matrix = confusion_matrix(y_val.values, pred, labels=[1,0])\n",
    "print(\"Confusion matrix:\\n%s\" % matrix)"
   ]
  },
  {
   "cell_type": "markdown",
   "id": "f62fd52c",
   "metadata": {},
   "source": [
    "<font size=6>**9. KATSE**<font>"
   ]
  },
  {
   "cell_type": "markdown",
   "id": "15558b01",
   "metadata": {},
   "source": [
    "<font size=3>**ANDMED**<font>"
   ]
  },
  {
   "cell_type": "code",
   "execution_count": 219,
   "id": "bdc18a30",
   "metadata": {},
   "outputs": [],
   "source": [
    "train_df = data_balance(\"train.csv\")[0]"
   ]
  },
  {
   "cell_type": "markdown",
   "id": "6765aabb",
   "metadata": {},
   "source": [
    "<font size=3>**TRAIN SETS**<font>"
   ]
  },
  {
   "cell_type": "code",
   "execution_count": 220,
   "id": "05615afd",
   "metadata": {},
   "outputs": [],
   "source": [
    "X = train_df.drop(columns=\"compliance_2021\")\n",
    "y = train_df[\"compliance_2021\"]\n",
    "\n",
    "X_train, X_val, y_train, y_val = train_test_split(X, y, test_size=0.2)"
   ]
  },
  {
   "cell_type": "markdown",
   "id": "d1cca751",
   "metadata": {},
   "source": [
    "<font size=3>**RFC PROBABILITY**<font>"
   ]
  },
  {
   "cell_type": "code",
   "execution_count": 221,
   "id": "0d3c9050",
   "metadata": {},
   "outputs": [
    {
     "data": {
      "text/html": [
       "<div>\n",
       "<style scoped>\n",
       "    .dataframe tbody tr th:only-of-type {\n",
       "        vertical-align: middle;\n",
       "    }\n",
       "\n",
       "    .dataframe tbody tr th {\n",
       "        vertical-align: top;\n",
       "    }\n",
       "\n",
       "    .dataframe thead th {\n",
       "        text-align: right;\n",
       "    }\n",
       "</style>\n",
       "<table border=\"1\" class=\"dataframe\">\n",
       "  <thead>\n",
       "    <tr style=\"text-align: right;\">\n",
       "      <th></th>\n",
       "      <th>pred</th>\n",
       "      <th>true</th>\n",
       "    </tr>\n",
       "  </thead>\n",
       "  <tbody>\n",
       "    <tr>\n",
       "      <th>0</th>\n",
       "      <td>0.305588</td>\n",
       "      <td>1</td>\n",
       "    </tr>\n",
       "    <tr>\n",
       "      <th>1</th>\n",
       "      <td>0.212500</td>\n",
       "      <td>0</td>\n",
       "    </tr>\n",
       "    <tr>\n",
       "      <th>2</th>\n",
       "      <td>0.386508</td>\n",
       "      <td>0</td>\n",
       "    </tr>\n",
       "    <tr>\n",
       "      <th>3</th>\n",
       "      <td>0.600909</td>\n",
       "      <td>1</td>\n",
       "    </tr>\n",
       "    <tr>\n",
       "      <th>4</th>\n",
       "      <td>0.306898</td>\n",
       "      <td>0</td>\n",
       "    </tr>\n",
       "    <tr>\n",
       "      <th>5</th>\n",
       "      <td>0.537262</td>\n",
       "      <td>1</td>\n",
       "    </tr>\n",
       "    <tr>\n",
       "      <th>6</th>\n",
       "      <td>0.445671</td>\n",
       "      <td>0</td>\n",
       "    </tr>\n",
       "    <tr>\n",
       "      <th>7</th>\n",
       "      <td>0.151667</td>\n",
       "      <td>0</td>\n",
       "    </tr>\n",
       "    <tr>\n",
       "      <th>8</th>\n",
       "      <td>0.423214</td>\n",
       "      <td>1</td>\n",
       "    </tr>\n",
       "    <tr>\n",
       "      <th>9</th>\n",
       "      <td>0.220000</td>\n",
       "      <td>0</td>\n",
       "    </tr>\n",
       "    <tr>\n",
       "      <th>10</th>\n",
       "      <td>0.220714</td>\n",
       "      <td>0</td>\n",
       "    </tr>\n",
       "    <tr>\n",
       "      <th>11</th>\n",
       "      <td>0.214286</td>\n",
       "      <td>0</td>\n",
       "    </tr>\n",
       "    <tr>\n",
       "      <th>12</th>\n",
       "      <td>0.339048</td>\n",
       "      <td>1</td>\n",
       "    </tr>\n",
       "    <tr>\n",
       "      <th>13</th>\n",
       "      <td>0.179167</td>\n",
       "      <td>1</td>\n",
       "    </tr>\n",
       "    <tr>\n",
       "      <th>14</th>\n",
       "      <td>0.559560</td>\n",
       "      <td>0</td>\n",
       "    </tr>\n",
       "    <tr>\n",
       "      <th>15</th>\n",
       "      <td>0.193333</td>\n",
       "      <td>0</td>\n",
       "    </tr>\n",
       "    <tr>\n",
       "      <th>16</th>\n",
       "      <td>0.372619</td>\n",
       "      <td>0</td>\n",
       "    </tr>\n",
       "    <tr>\n",
       "      <th>17</th>\n",
       "      <td>0.139286</td>\n",
       "      <td>0</td>\n",
       "    </tr>\n",
       "    <tr>\n",
       "      <th>18</th>\n",
       "      <td>0.187500</td>\n",
       "      <td>1</td>\n",
       "    </tr>\n",
       "    <tr>\n",
       "      <th>19</th>\n",
       "      <td>0.033333</td>\n",
       "      <td>0</td>\n",
       "    </tr>\n",
       "    <tr>\n",
       "      <th>20</th>\n",
       "      <td>0.200000</td>\n",
       "      <td>0</td>\n",
       "    </tr>\n",
       "    <tr>\n",
       "      <th>21</th>\n",
       "      <td>0.364484</td>\n",
       "      <td>0</td>\n",
       "    </tr>\n",
       "    <tr>\n",
       "      <th>22</th>\n",
       "      <td>0.409167</td>\n",
       "      <td>0</td>\n",
       "    </tr>\n",
       "    <tr>\n",
       "      <th>23</th>\n",
       "      <td>0.395833</td>\n",
       "      <td>0</td>\n",
       "    </tr>\n",
       "    <tr>\n",
       "      <th>24</th>\n",
       "      <td>0.621667</td>\n",
       "      <td>0</td>\n",
       "    </tr>\n",
       "    <tr>\n",
       "      <th>25</th>\n",
       "      <td>0.588214</td>\n",
       "      <td>1</td>\n",
       "    </tr>\n",
       "    <tr>\n",
       "      <th>26</th>\n",
       "      <td>0.114286</td>\n",
       "      <td>0</td>\n",
       "    </tr>\n",
       "    <tr>\n",
       "      <th>27</th>\n",
       "      <td>0.308333</td>\n",
       "      <td>0</td>\n",
       "    </tr>\n",
       "    <tr>\n",
       "      <th>28</th>\n",
       "      <td>0.487453</td>\n",
       "      <td>0</td>\n",
       "    </tr>\n",
       "    <tr>\n",
       "      <th>29</th>\n",
       "      <td>0.347500</td>\n",
       "      <td>0</td>\n",
       "    </tr>\n",
       "    <tr>\n",
       "      <th>30</th>\n",
       "      <td>0.484405</td>\n",
       "      <td>1</td>\n",
       "    </tr>\n",
       "    <tr>\n",
       "      <th>31</th>\n",
       "      <td>0.295000</td>\n",
       "      <td>0</td>\n",
       "    </tr>\n",
       "    <tr>\n",
       "      <th>32</th>\n",
       "      <td>0.225714</td>\n",
       "      <td>0</td>\n",
       "    </tr>\n",
       "    <tr>\n",
       "      <th>33</th>\n",
       "      <td>0.330952</td>\n",
       "      <td>0</td>\n",
       "    </tr>\n",
       "    <tr>\n",
       "      <th>34</th>\n",
       "      <td>0.549286</td>\n",
       "      <td>0</td>\n",
       "    </tr>\n",
       "    <tr>\n",
       "      <th>35</th>\n",
       "      <td>0.025000</td>\n",
       "      <td>0</td>\n",
       "    </tr>\n",
       "    <tr>\n",
       "      <th>36</th>\n",
       "      <td>0.199286</td>\n",
       "      <td>0</td>\n",
       "    </tr>\n",
       "    <tr>\n",
       "      <th>37</th>\n",
       "      <td>0.353922</td>\n",
       "      <td>0</td>\n",
       "    </tr>\n",
       "    <tr>\n",
       "      <th>38</th>\n",
       "      <td>0.513333</td>\n",
       "      <td>0</td>\n",
       "    </tr>\n",
       "    <tr>\n",
       "      <th>39</th>\n",
       "      <td>0.078333</td>\n",
       "      <td>0</td>\n",
       "    </tr>\n",
       "  </tbody>\n",
       "</table>\n",
       "</div>"
      ],
      "text/plain": [
       "        pred  true\n",
       "0   0.305588     1\n",
       "1   0.212500     0\n",
       "2   0.386508     0\n",
       "3   0.600909     1\n",
       "4   0.306898     0\n",
       "5   0.537262     1\n",
       "6   0.445671     0\n",
       "7   0.151667     0\n",
       "8   0.423214     1\n",
       "9   0.220000     0\n",
       "10  0.220714     0\n",
       "11  0.214286     0\n",
       "12  0.339048     1\n",
       "13  0.179167     1\n",
       "14  0.559560     0\n",
       "15  0.193333     0\n",
       "16  0.372619     0\n",
       "17  0.139286     0\n",
       "18  0.187500     1\n",
       "19  0.033333     0\n",
       "20  0.200000     0\n",
       "21  0.364484     0\n",
       "22  0.409167     0\n",
       "23  0.395833     0\n",
       "24  0.621667     0\n",
       "25  0.588214     1\n",
       "26  0.114286     0\n",
       "27  0.308333     0\n",
       "28  0.487453     0\n",
       "29  0.347500     0\n",
       "30  0.484405     1\n",
       "31  0.295000     0\n",
       "32  0.225714     0\n",
       "33  0.330952     0\n",
       "34  0.549286     0\n",
       "35  0.025000     0\n",
       "36  0.199286     0\n",
       "37  0.353922     0\n",
       "38  0.513333     0\n",
       "39  0.078333     0"
      ]
     },
     "execution_count": 221,
     "metadata": {},
     "output_type": "execute_result"
    }
   ],
   "source": [
    "model = RFC(criterion = \"gini\", n_estimators = 10, max_depth = 13, \n",
    "            min_samples_split = 2, min_samples_leaf = 3).fit(X_train, y_train)\n",
    "\n",
    "pred = pd.DataFrame(model.predict_proba(X_val))[1]\n",
    "\n",
    "results = pd.DataFrame({\"pred\" : pred, \"true\" : y_val.reset_index(drop=True)})\n",
    "\n",
    "results"
   ]
  },
  {
   "cell_type": "markdown",
   "id": "8d2d3f95",
   "metadata": {},
   "source": [
    "<font size=6>**10. KATSE**<font>"
   ]
  },
  {
   "cell_type": "markdown",
   "id": "14c9b321",
   "metadata": {},
   "source": [
    "<font size=3>**ANDMED**<font>"
   ]
  },
  {
   "cell_type": "code",
   "execution_count": 98,
   "id": "79d28649",
   "metadata": {},
   "outputs": [],
   "source": [
    "train_df = pd.read_csv(\"train.csv\").drop(columns=[\"compliance_2021\", \"station_id\", \"Enterococci_2019\", \"Enterococci_2020\", \"Escherichia-coli-Colilert_2019\",\n",
    "                                                \"Escherichia-coli-Colilert_2020\", \"Escherichia-coli_2019\", \"Escherichia-coli_2020\"])\n",
    "\n",
    "\n",
    "cols = train_df.columns\n",
    "\n",
    "limit = [60, 1.5, 1.5, 300, 10, 30, 350, 8, 40, 3000, 1.75, 2000, 400, 20, 0.15, 10, 5, 3, 300, 80, 4, 10, 20, 9]\n",
    "\n",
    "for i in range(len(cols)-2):\n",
    "    col = np.array(train_df[cols[i]].values.tolist())\n",
    "    train_df[cols[i]] = np.where(col > limit[i//2], np.nan, col).tolist()\n",
    "\n",
    "comp_19 = train_df[train_df[\"compliance_2019\"] == 1]\n",
    "comp_20 = train_df[train_df[\"compliance_2020\"] == 1]\n",
    "\n",
    "for i in range((len(cols))//2):\n",
    "    comp_19 = comp_19.drop(columns = cols[i*2+1])\n",
    "    comp_20 = comp_20.drop(columns = cols[i*2])"
   ]
  },
  {
   "cell_type": "code",
   "execution_count": 99,
   "id": "de8bf7b2",
   "metadata": {},
   "outputs": [],
   "source": [
    "max_value = []\n",
    "min_value = []\n",
    "\n",
    "for i in range(len(comp_19.columns)-1):\n",
    "    max_value.append(max(comp_19.max()[i], comp_20.max()[i]))\n",
    "    min_value.append(min(comp_19.min()[i], comp_20.min()[i]))"
   ]
  }
 ],
 "metadata": {
  "kernelspec": {
   "display_name": "Python 3 (ipykernel)",
   "language": "python",
   "name": "python3"
  },
  "language_info": {
   "codemirror_mode": {
    "name": "ipython",
    "version": 3
   },
   "file_extension": ".py",
   "mimetype": "text/x-python",
   "name": "python",
   "nbconvert_exporter": "python",
   "pygments_lexer": "ipython3",
   "version": "3.9.12"
  }
 },
 "nbformat": 4,
 "nbformat_minor": 5
}
