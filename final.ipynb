{
 "cells": [
  {
   "cell_type": "markdown",
   "id": "4d3af3cf",
   "metadata": {},
   "source": [
    "<font size=3>*This code will find minimal amount of features to have a high rate of accuracy when guessing positively*<font>"
   ]
  },
  {
   "cell_type": "markdown",
   "id": "7710e35c",
   "metadata": {},
   "source": [
    "<font size=3>**IMPORTS**<font>"
   ]
  },
  {
   "cell_type": "code",
   "execution_count": 1,
   "id": "a523de76",
   "metadata": {},
   "outputs": [],
   "source": [
    "import pandas as pd\n",
    "import numpy as np\n",
    "import matplotlib.pyplot as plt\n",
    "from sklearn.ensemble import RandomForestClassifier as RFC\n",
    "from sklearn.metrics import confusion_matrix"
   ]
  },
  {
   "cell_type": "markdown",
   "id": "c8ca9959",
   "metadata": {},
   "source": [
    "<font size=3>**FUNCTIONS**<font>"
   ]
  },
  {
   "cell_type": "code",
   "execution_count": 2,
   "id": "e2cc3b47",
   "metadata": {},
   "outputs": [],
   "source": [
    "def sep_years(dataframe): # separates data by years\n",
    "\n",
    "    comp_19 = dataframe\n",
    "    comp_20 = dataframe\n",
    "\n",
    "    cols = dataframe.columns\n",
    "\n",
    "    for i in range((len(cols))//2): # seperates every year's data to its dataframe\n",
    "        comp_19 = comp_19.drop(columns = cols[i*2+1])\n",
    "        comp_20 = comp_20.drop(columns = cols[i*2])\n",
    "\n",
    "    cols_19 = comp_19.columns\n",
    "    cols_20 = comp_20.columns\n",
    "\n",
    "    for i in range((len(cols_19))): # deletes the year number from the columns\n",
    "        comp_19 = comp_19.rename(columns={cols_19[i] : cols_19[i][:-5]})\n",
    "        comp_20 = comp_20.rename(columns={cols_20[i] : cols_20[i][:-5]})\n",
    "    \n",
    "        \n",
    "    return [comp_19, comp_20]"
   ]
  },
  {
   "cell_type": "code",
   "execution_count": 3,
   "id": "f5002292",
   "metadata": {},
   "outputs": [],
   "source": [
    "def data(file):  # reads in data from csv file to dataframe\n",
    "    \n",
    "    try: # deletes unnecessary columns\n",
    "        dataframe = pd.read_csv(file).drop(columns=[\"station_id\", \"compliance_2021\"])\n",
    "    except:\n",
    "        dataframe = pd.read_csv(file).drop(columns=\"station_id\")\n",
    "\n",
    "    comp_19, comp_20 = sep_years(dataframe) # separates data by year\n",
    "    dataframe = pd.concat([comp_19, comp_20], ignore_index=True) # makes one big dataframe\n",
    "    \n",
    "    dataframe = dataframe.fillna(dataframe.mean()) # replaces Nan values with every columns median value\n",
    "    \n",
    "    return dataframe"
   ]
  },
  {
   "cell_type": "code",
   "execution_count": 4,
   "id": "0b6302b0",
   "metadata": {},
   "outputs": [],
   "source": [
    "def test(X_train, y_train, X_val, y_val, col, results, reps): # tests dataframe's performance\n",
    "    pos_guess_acc = []\n",
    "    pos_cases_found = []\n",
    "\n",
    "    for i in range(reps): # runs multible tests\n",
    "        model = RFC().fit(X_train, y_train)\n",
    "        pred = model.predict(X_val)\n",
    "        matrix = confusion_matrix(y_val.values, pred, labels=[1,0])\n",
    "        \n",
    "        tp = matrix[0][0]\n",
    "        fp = matrix[1][0]\n",
    "        fn = matrix[0][1]\n",
    "\n",
    "        pos_guess_acc.append(tp/(fp + tp))   # calculates the scores\n",
    "        pos_cases_found.append(tp/(fn + tp))\n",
    "\n",
    "    avg_pos_guess_acc = round(100 * sum(pos_guess_acc) / len(pos_guess_acc) , 2)  # finds the average of scores\n",
    "    avg_pos_cases_found = round(100 * sum(pos_cases_found) / len(pos_cases_found) , 2)\n",
    "    \n",
    "    try:\n",
    "        results.at[col, \"Guess acc\"] = avg_pos_guess_acc   # returns results\n",
    "        results.at[col, \"Find acc\"] = avg_pos_cases_found\n",
    "    \n",
    "        return results\n",
    "    \n",
    "    except:\n",
    "        pass\n",
    "    "
   ]
  },
  {
   "cell_type": "markdown",
   "id": "c724f788",
   "metadata": {},
   "source": [
    "<font size=3>**FIRST COLUMN**<font>"
   ]
  },
  {
   "cell_type": "code",
   "execution_count": 5,
   "id": "35f1984a",
   "metadata": {},
   "outputs": [],
   "source": [
    "train_df = data(\"train.csv\")  # Data in\n",
    "test_df = data(\"test.csv\")\n",
    "\n",
    "del_cols = [] # keeps track of unnecessary columns\n",
    "\n",
    "X_train = train_df.drop(columns=\"compliance\")  # train sets\n",
    "y_train = train_df[\"compliance\"]\n",
    "\n",
    "X_val = test_df.drop(columns=\"compliance\")    # test sets\n",
    "y_val = test_df[\"compliance\"]"
   ]
  },
  {
   "cell_type": "code",
   "execution_count": 6,
   "id": "28e22857",
   "metadata": {},
   "outputs": [
    {
     "data": {
      "text/html": [
       "<div>\n",
       "<style scoped>\n",
       "    .dataframe tbody tr th:only-of-type {\n",
       "        vertical-align: middle;\n",
       "    }\n",
       "\n",
       "    .dataframe tbody tr th {\n",
       "        vertical-align: top;\n",
       "    }\n",
       "\n",
       "    .dataframe thead th {\n",
       "        text-align: right;\n",
       "    }\n",
       "</style>\n",
       "<table border=\"1\" class=\"dataframe\">\n",
       "  <thead>\n",
       "    <tr style=\"text-align: right;\">\n",
       "      <th></th>\n",
       "      <th>Guess acc</th>\n",
       "      <th>Find acc</th>\n",
       "    </tr>\n",
       "  </thead>\n",
       "  <tbody>\n",
       "    <tr>\n",
       "      <th>Coli-like-bacteria</th>\n",
       "      <td>90.41</td>\n",
       "      <td>71.05</td>\n",
       "    </tr>\n",
       "  </tbody>\n",
       "</table>\n",
       "</div>"
      ],
      "text/plain": [
       "                   Guess acc Find acc\n",
       "Coli-like-bacteria     90.41    71.05"
      ]
     },
     "execution_count": 6,
     "metadata": {},
     "output_type": "execute_result"
    }
   ],
   "source": [
    "cols = X_train.columns\n",
    "results = pd.DataFrame(columns = [\"Guess acc\", \"Find acc\"], index = cols) # creates results dataframe\n",
    "\n",
    "for col in cols:  # runs tests with every column by excluding it\n",
    "    X_train = train_df.drop(columns=[\"compliance\", col]) # train and test sets without one column\n",
    "    y_train = train_df[\"compliance\"]\n",
    "\n",
    "    X_val = test_df.drop(columns=[\"compliance\", col])\n",
    "    y_val = test_df[\"compliance\"]\n",
    "    \n",
    "    results = test(X_train, y_train, X_val, y_val, col, results, 10)\n",
    "    \n",
    "\n",
    "results = results.sort_values(by = \"Guess acc\", ascending = False) # The column that had the highest accuracy when excluded\n",
    "del_cols.append(results.index[0])                                  # will be removed\n",
    "\n",
    "results.head(1)"
   ]
  },
  {
   "cell_type": "markdown",
   "id": "b702e024",
   "metadata": {},
   "source": [
    "<font size=3>**FUNCTIONS**<font>"
   ]
  },
  {
   "cell_type": "code",
   "execution_count": 7,
   "id": "97b04a5e",
   "metadata": {},
   "outputs": [],
   "source": [
    "def data_sets(del_cols): # data in\n",
    "    train_df = data(\"train.csv\").drop(columns=del_cols)\n",
    "    test_df = data(\"test.csv\").drop(columns=del_cols)\n",
    "\n",
    "    X_train = train_df.drop(columns=\"compliance\")\n",
    "    y_train = train_df[\"compliance\"]\n",
    "\n",
    "    X_val = test_df.drop(columns=\"compliance\")\n",
    "    y_val = test_df[\"compliance\"]\n",
    "    \n",
    "    return [train_df, test_df, X_train, y_train, X_val, y_val]\n",
    "    "
   ]
  },
  {
   "cell_type": "code",
   "execution_count": 8,
   "id": "c7aafd46",
   "metadata": {},
   "outputs": [],
   "source": [
    "def consec_test(train_df, test_df, X_train, y_train, X_val, y_val): # tests with every column and excludes one\n",
    "    cols = X_train.columns\n",
    "    results = pd.DataFrame(columns = [\"Guess acc\", \"Find acc\"], index = cols)\n",
    "\n",
    "    for col in cols:\n",
    "        X_train = train_df.drop(columns=[\"compliance\", col])\n",
    "        y_train = train_df[\"compliance\"]\n",
    "\n",
    "        X_val = test_df.drop(columns=[\"compliance\", col])\n",
    "        y_val = test_df[\"compliance\"]\n",
    "\n",
    "        results = test(X_train, y_train, X_val, y_val, col, results, 10)\n",
    "\n",
    "\n",
    "    results = results.sort_values(by = \"Guess acc\", ascending = False)\n",
    "\n",
    "    \n",
    "    return results"
   ]
  },
  {
   "cell_type": "markdown",
   "id": "10b9034c",
   "metadata": {},
   "source": [
    "<font size=3>**REST OF THE COLUMNS**<font>"
   ]
  },
  {
   "cell_type": "code",
   "execution_count": 9,
   "id": "3af2f0ed",
   "metadata": {},
   "outputs": [
    {
     "data": {
      "text/html": [
       "<div>\n",
       "<style scoped>\n",
       "    .dataframe tbody tr th:only-of-type {\n",
       "        vertical-align: middle;\n",
       "    }\n",
       "\n",
       "    .dataframe tbody tr th {\n",
       "        vertical-align: top;\n",
       "    }\n",
       "\n",
       "    .dataframe thead th {\n",
       "        text-align: right;\n",
       "    }\n",
       "</style>\n",
       "<table border=\"1\" class=\"dataframe\">\n",
       "  <thead>\n",
       "    <tr style=\"text-align: right;\">\n",
       "      <th></th>\n",
       "      <th>Guess acc</th>\n",
       "      <th>Find acc</th>\n",
       "    </tr>\n",
       "  </thead>\n",
       "  <tbody>\n",
       "    <tr>\n",
       "      <th>Boron</th>\n",
       "      <td>95.23</td>\n",
       "      <td>67.89</td>\n",
       "    </tr>\n",
       "  </tbody>\n",
       "</table>\n",
       "</div>"
      ],
      "text/plain": [
       "      Guess acc Find acc\n",
       "Boron     95.23    67.89"
      ]
     },
     "execution_count": 9,
     "metadata": {},
     "output_type": "execute_result"
    }
   ],
   "source": [
    "train_df, test_df, X_train, y_train, X_val, y_val = data_sets(del_cols) # repeating the process\n",
    "\n",
    "results = consec_test(train_df, test_df, X_train, y_train, X_val, y_val)\n",
    "del_cols.append(results.index[0])\n",
    "\n",
    "results.head(1)"
   ]
  },
  {
   "cell_type": "code",
   "execution_count": 10,
   "id": "b248a73f",
   "metadata": {},
   "outputs": [
    {
     "data": {
      "text/html": [
       "<div>\n",
       "<style scoped>\n",
       "    .dataframe tbody tr th:only-of-type {\n",
       "        vertical-align: middle;\n",
       "    }\n",
       "\n",
       "    .dataframe tbody tr th {\n",
       "        vertical-align: top;\n",
       "    }\n",
       "\n",
       "    .dataframe thead th {\n",
       "        text-align: right;\n",
       "    }\n",
       "</style>\n",
       "<table border=\"1\" class=\"dataframe\">\n",
       "  <thead>\n",
       "    <tr style=\"text-align: right;\">\n",
       "      <th></th>\n",
       "      <th>Guess acc</th>\n",
       "      <th>Find acc</th>\n",
       "    </tr>\n",
       "  </thead>\n",
       "  <tbody>\n",
       "    <tr>\n",
       "      <th>Oxidability</th>\n",
       "      <td>96.38</td>\n",
       "      <td>66.05</td>\n",
       "    </tr>\n",
       "  </tbody>\n",
       "</table>\n",
       "</div>"
      ],
      "text/plain": [
       "            Guess acc Find acc\n",
       "Oxidability     96.38    66.05"
      ]
     },
     "execution_count": 10,
     "metadata": {},
     "output_type": "execute_result"
    }
   ],
   "source": [
    "train_df, test_df, X_train, y_train, X_val, y_val = data_sets(del_cols)\n",
    "\n",
    "results = consec_test(train_df, test_df, X_train, y_train, X_val, y_val)\n",
    "del_cols.append(results.index[0])\n",
    "\n",
    "results.head(1)"
   ]
  },
  {
   "cell_type": "code",
   "execution_count": 11,
   "id": "f04c7bc5",
   "metadata": {},
   "outputs": [
    {
     "data": {
      "text/html": [
       "<div>\n",
       "<style scoped>\n",
       "    .dataframe tbody tr th:only-of-type {\n",
       "        vertical-align: middle;\n",
       "    }\n",
       "\n",
       "    .dataframe tbody tr th {\n",
       "        vertical-align: top;\n",
       "    }\n",
       "\n",
       "    .dataframe thead th {\n",
       "        text-align: right;\n",
       "    }\n",
       "</style>\n",
       "<table border=\"1\" class=\"dataframe\">\n",
       "  <thead>\n",
       "    <tr style=\"text-align: right;\">\n",
       "      <th></th>\n",
       "      <th>Guess acc</th>\n",
       "      <th>Find acc</th>\n",
       "    </tr>\n",
       "  </thead>\n",
       "  <tbody>\n",
       "    <tr>\n",
       "      <th>Odour-dilution-level</th>\n",
       "      <td>97.81</td>\n",
       "      <td>64.61</td>\n",
       "    </tr>\n",
       "  </tbody>\n",
       "</table>\n",
       "</div>"
      ],
      "text/plain": [
       "                     Guess acc Find acc\n",
       "Odour-dilution-level     97.81    64.61"
      ]
     },
     "execution_count": 11,
     "metadata": {},
     "output_type": "execute_result"
    }
   ],
   "source": [
    "train_df, test_df, X_train, y_train, X_val, y_val = data_sets(del_cols)\n",
    "\n",
    "results = consec_test(train_df, test_df, X_train, y_train, X_val, y_val)\n",
    "del_cols.append(results.index[0])\n",
    "\n",
    "results.head(1)"
   ]
  },
  {
   "cell_type": "code",
   "execution_count": 12,
   "id": "d2e8f5d9",
   "metadata": {},
   "outputs": [
    {
     "data": {
      "text/html": [
       "<div>\n",
       "<style scoped>\n",
       "    .dataframe tbody tr th:only-of-type {\n",
       "        vertical-align: middle;\n",
       "    }\n",
       "\n",
       "    .dataframe tbody tr th {\n",
       "        vertical-align: top;\n",
       "    }\n",
       "\n",
       "    .dataframe thead th {\n",
       "        text-align: right;\n",
       "    }\n",
       "</style>\n",
       "<table border=\"1\" class=\"dataframe\">\n",
       "  <thead>\n",
       "    <tr style=\"text-align: right;\">\n",
       "      <th></th>\n",
       "      <th>Guess acc</th>\n",
       "      <th>Find acc</th>\n",
       "    </tr>\n",
       "  </thead>\n",
       "  <tbody>\n",
       "    <tr>\n",
       "      <th>Turbidity-NTU</th>\n",
       "      <td>98.64</td>\n",
       "      <td>65.26</td>\n",
       "    </tr>\n",
       "  </tbody>\n",
       "</table>\n",
       "</div>"
      ],
      "text/plain": [
       "              Guess acc Find acc\n",
       "Turbidity-NTU     98.64    65.26"
      ]
     },
     "execution_count": 12,
     "metadata": {},
     "output_type": "execute_result"
    }
   ],
   "source": [
    "train_df, test_df, X_train, y_train, X_val, y_val = data_sets(del_cols)\n",
    "\n",
    "results = consec_test(train_df, test_df, X_train, y_train, X_val, y_val)\n",
    "del_cols.append(results.index[0])\n",
    "\n",
    "results.head(1)"
   ]
  },
  {
   "cell_type": "code",
   "execution_count": 13,
   "id": "198e6d96",
   "metadata": {},
   "outputs": [
    {
     "data": {
      "text/html": [
       "<div>\n",
       "<style scoped>\n",
       "    .dataframe tbody tr th:only-of-type {\n",
       "        vertical-align: middle;\n",
       "    }\n",
       "\n",
       "    .dataframe tbody tr th {\n",
       "        vertical-align: top;\n",
       "    }\n",
       "\n",
       "    .dataframe thead th {\n",
       "        text-align: right;\n",
       "    }\n",
       "</style>\n",
       "<table border=\"1\" class=\"dataframe\">\n",
       "  <thead>\n",
       "    <tr style=\"text-align: right;\">\n",
       "      <th></th>\n",
       "      <th>Guess acc</th>\n",
       "      <th>Find acc</th>\n",
       "    </tr>\n",
       "  </thead>\n",
       "  <tbody>\n",
       "    <tr>\n",
       "      <th>Nitrite</th>\n",
       "      <td>99.04</td>\n",
       "      <td>66.58</td>\n",
       "    </tr>\n",
       "  </tbody>\n",
       "</table>\n",
       "</div>"
      ],
      "text/plain": [
       "        Guess acc Find acc\n",
       "Nitrite     99.04    66.58"
      ]
     },
     "execution_count": 13,
     "metadata": {},
     "output_type": "execute_result"
    }
   ],
   "source": [
    "train_df, test_df, X_train, y_train, X_val, y_val = data_sets(del_cols)\n",
    "\n",
    "results = consec_test(train_df, test_df, X_train, y_train, X_val, y_val)\n",
    "del_cols.append(results.index[0])\n",
    "\n",
    "results.head(1)"
   ]
  },
  {
   "cell_type": "code",
   "execution_count": 14,
   "id": "2aa54a45",
   "metadata": {},
   "outputs": [
    {
     "data": {
      "text/html": [
       "<div>\n",
       "<style scoped>\n",
       "    .dataframe tbody tr th:only-of-type {\n",
       "        vertical-align: middle;\n",
       "    }\n",
       "\n",
       "    .dataframe tbody tr th {\n",
       "        vertical-align: top;\n",
       "    }\n",
       "\n",
       "    .dataframe thead th {\n",
       "        text-align: right;\n",
       "    }\n",
       "</style>\n",
       "<table border=\"1\" class=\"dataframe\">\n",
       "  <thead>\n",
       "    <tr style=\"text-align: right;\">\n",
       "      <th></th>\n",
       "      <th>Guess acc</th>\n",
       "      <th>Find acc</th>\n",
       "    </tr>\n",
       "  </thead>\n",
       "  <tbody>\n",
       "    <tr>\n",
       "      <th>Taste-ball-units</th>\n",
       "      <td>98.7</td>\n",
       "      <td>66.84</td>\n",
       "    </tr>\n",
       "  </tbody>\n",
       "</table>\n",
       "</div>"
      ],
      "text/plain": [
       "                 Guess acc Find acc\n",
       "Taste-ball-units      98.7    66.84"
      ]
     },
     "execution_count": 14,
     "metadata": {},
     "output_type": "execute_result"
    }
   ],
   "source": [
    "train_df, test_df, X_train, y_train, X_val, y_val = data_sets(del_cols)\n",
    "\n",
    "results = consec_test(train_df, test_df, X_train, y_train, X_val, y_val)\n",
    "del_cols.append(results.index[0])\n",
    "\n",
    "results.head(1)"
   ]
  },
  {
   "cell_type": "code",
   "execution_count": 15,
   "id": "43358549",
   "metadata": {},
   "outputs": [
    {
     "data": {
      "text/html": [
       "<div>\n",
       "<style scoped>\n",
       "    .dataframe tbody tr th:only-of-type {\n",
       "        vertical-align: middle;\n",
       "    }\n",
       "\n",
       "    .dataframe tbody tr th {\n",
       "        vertical-align: top;\n",
       "    }\n",
       "\n",
       "    .dataframe thead th {\n",
       "        text-align: right;\n",
       "    }\n",
       "</style>\n",
       "<table border=\"1\" class=\"dataframe\">\n",
       "  <thead>\n",
       "    <tr style=\"text-align: right;\">\n",
       "      <th></th>\n",
       "      <th>Guess acc</th>\n",
       "      <th>Find acc</th>\n",
       "    </tr>\n",
       "  </thead>\n",
       "  <tbody>\n",
       "    <tr>\n",
       "      <th>Electrical-conductivity</th>\n",
       "      <td>99.25</td>\n",
       "      <td>68.03</td>\n",
       "    </tr>\n",
       "  </tbody>\n",
       "</table>\n",
       "</div>"
      ],
      "text/plain": [
       "                        Guess acc Find acc\n",
       "Electrical-conductivity     99.25    68.03"
      ]
     },
     "execution_count": 15,
     "metadata": {},
     "output_type": "execute_result"
    }
   ],
   "source": [
    "train_df, test_df, X_train, y_train, X_val, y_val = data_sets(del_cols)\n",
    "\n",
    "results = consec_test(train_df, test_df, X_train, y_train, X_val, y_val)\n",
    "del_cols.append(results.index[0])\n",
    "\n",
    "results.head(1)"
   ]
  },
  {
   "cell_type": "code",
   "execution_count": 16,
   "id": "86d5fa92",
   "metadata": {},
   "outputs": [
    {
     "data": {
      "text/html": [
       "<div>\n",
       "<style scoped>\n",
       "    .dataframe tbody tr th:only-of-type {\n",
       "        vertical-align: middle;\n",
       "    }\n",
       "\n",
       "    .dataframe tbody tr th {\n",
       "        vertical-align: top;\n",
       "    }\n",
       "\n",
       "    .dataframe thead th {\n",
       "        text-align: right;\n",
       "    }\n",
       "</style>\n",
       "<table border=\"1\" class=\"dataframe\">\n",
       "  <thead>\n",
       "    <tr style=\"text-align: right;\">\n",
       "      <th></th>\n",
       "      <th>Guess acc</th>\n",
       "      <th>Find acc</th>\n",
       "    </tr>\n",
       "  </thead>\n",
       "  <tbody>\n",
       "    <tr>\n",
       "      <th>Sulphate</th>\n",
       "      <td>99.23</td>\n",
       "      <td>68.16</td>\n",
       "    </tr>\n",
       "  </tbody>\n",
       "</table>\n",
       "</div>"
      ],
      "text/plain": [
       "         Guess acc Find acc\n",
       "Sulphate     99.23    68.16"
      ]
     },
     "execution_count": 16,
     "metadata": {},
     "output_type": "execute_result"
    }
   ],
   "source": [
    "train_df, test_df, X_train, y_train, X_val, y_val = data_sets(del_cols)\n",
    "\n",
    "results = consec_test(train_df, test_df, X_train, y_train, X_val, y_val)\n",
    "del_cols.append(results.index[0])\n",
    "\n",
    "results.head(1)"
   ]
  },
  {
   "cell_type": "code",
   "execution_count": 17,
   "id": "47f3d5b1",
   "metadata": {},
   "outputs": [
    {
     "data": {
      "text/html": [
       "<div>\n",
       "<style scoped>\n",
       "    .dataframe tbody tr th:only-of-type {\n",
       "        vertical-align: middle;\n",
       "    }\n",
       "\n",
       "    .dataframe tbody tr th {\n",
       "        vertical-align: top;\n",
       "    }\n",
       "\n",
       "    .dataframe thead th {\n",
       "        text-align: right;\n",
       "    }\n",
       "</style>\n",
       "<table border=\"1\" class=\"dataframe\">\n",
       "  <thead>\n",
       "    <tr style=\"text-align: right;\">\n",
       "      <th></th>\n",
       "      <th>Guess acc</th>\n",
       "      <th>Find acc</th>\n",
       "    </tr>\n",
       "  </thead>\n",
       "  <tbody>\n",
       "    <tr>\n",
       "      <th>Aluminium</th>\n",
       "      <td>99.43</td>\n",
       "      <td>67.37</td>\n",
       "    </tr>\n",
       "  </tbody>\n",
       "</table>\n",
       "</div>"
      ],
      "text/plain": [
       "          Guess acc Find acc\n",
       "Aluminium     99.43    67.37"
      ]
     },
     "execution_count": 17,
     "metadata": {},
     "output_type": "execute_result"
    }
   ],
   "source": [
    "train_df, test_df, X_train, y_train, X_val, y_val = data_sets(del_cols)\n",
    "\n",
    "results = consec_test(train_df, test_df, X_train, y_train, X_val, y_val)\n",
    "del_cols.append(results.index[0])\n",
    "\n",
    "results.head(1)"
   ]
  },
  {
   "cell_type": "code",
   "execution_count": 18,
   "id": "dfd8a57a",
   "metadata": {},
   "outputs": [
    {
     "data": {
      "text/html": [
       "<div>\n",
       "<style scoped>\n",
       "    .dataframe tbody tr th:only-of-type {\n",
       "        vertical-align: middle;\n",
       "    }\n",
       "\n",
       "    .dataframe tbody tr th {\n",
       "        vertical-align: top;\n",
       "    }\n",
       "\n",
       "    .dataframe thead th {\n",
       "        text-align: right;\n",
       "    }\n",
       "</style>\n",
       "<table border=\"1\" class=\"dataframe\">\n",
       "  <thead>\n",
       "    <tr style=\"text-align: right;\">\n",
       "      <th></th>\n",
       "      <th>Guess acc</th>\n",
       "      <th>Find acc</th>\n",
       "    </tr>\n",
       "  </thead>\n",
       "  <tbody>\n",
       "    <tr>\n",
       "      <th>Smell-ball-units</th>\n",
       "      <td>99.63</td>\n",
       "      <td>68.82</td>\n",
       "    </tr>\n",
       "  </tbody>\n",
       "</table>\n",
       "</div>"
      ],
      "text/plain": [
       "                 Guess acc Find acc\n",
       "Smell-ball-units     99.63    68.82"
      ]
     },
     "execution_count": 18,
     "metadata": {},
     "output_type": "execute_result"
    }
   ],
   "source": [
    "train_df, test_df, X_train, y_train, X_val, y_val = data_sets(del_cols)\n",
    "\n",
    "results = consec_test(train_df, test_df, X_train, y_train, X_val, y_val)\n",
    "del_cols.append(results.index[0])\n",
    "\n",
    "results.head(1)"
   ]
  },
  {
   "cell_type": "code",
   "execution_count": 19,
   "id": "4b3a72f5",
   "metadata": {},
   "outputs": [
    {
     "data": {
      "text/html": [
       "<div>\n",
       "<style scoped>\n",
       "    .dataframe tbody tr th:only-of-type {\n",
       "        vertical-align: middle;\n",
       "    }\n",
       "\n",
       "    .dataframe tbody tr th {\n",
       "        vertical-align: top;\n",
       "    }\n",
       "\n",
       "    .dataframe thead th {\n",
       "        text-align: right;\n",
       "    }\n",
       "</style>\n",
       "<table border=\"1\" class=\"dataframe\">\n",
       "  <thead>\n",
       "    <tr style=\"text-align: right;\">\n",
       "      <th></th>\n",
       "      <th>Guess acc</th>\n",
       "      <th>Find acc</th>\n",
       "    </tr>\n",
       "  </thead>\n",
       "  <tbody>\n",
       "    <tr>\n",
       "      <th>Color-Pt/Co-scale</th>\n",
       "      <td>99.81</td>\n",
       "      <td>67.24</td>\n",
       "    </tr>\n",
       "  </tbody>\n",
       "</table>\n",
       "</div>"
      ],
      "text/plain": [
       "                  Guess acc Find acc\n",
       "Color-Pt/Co-scale     99.81    67.24"
      ]
     },
     "execution_count": 19,
     "metadata": {},
     "output_type": "execute_result"
    }
   ],
   "source": [
    "train_df, test_df, X_train, y_train, X_val, y_val = data_sets(del_cols)\n",
    "\n",
    "results = consec_test(train_df, test_df, X_train, y_train, X_val, y_val)\n",
    "del_cols.append(results.index[0])\n",
    "\n",
    "results.head(1)"
   ]
  },
  {
   "cell_type": "code",
   "execution_count": 20,
   "id": "40cdcfab",
   "metadata": {},
   "outputs": [
    {
     "data": {
      "text/html": [
       "<div>\n",
       "<style scoped>\n",
       "    .dataframe tbody tr th:only-of-type {\n",
       "        vertical-align: middle;\n",
       "    }\n",
       "\n",
       "    .dataframe tbody tr th {\n",
       "        vertical-align: top;\n",
       "    }\n",
       "\n",
       "    .dataframe thead th {\n",
       "        text-align: right;\n",
       "    }\n",
       "</style>\n",
       "<table border=\"1\" class=\"dataframe\">\n",
       "  <thead>\n",
       "    <tr style=\"text-align: right;\">\n",
       "      <th></th>\n",
       "      <th>Guess acc</th>\n",
       "      <th>Find acc</th>\n",
       "    </tr>\n",
       "  </thead>\n",
       "  <tbody>\n",
       "    <tr>\n",
       "      <th>Nitrate</th>\n",
       "      <td>99.62</td>\n",
       "      <td>67.76</td>\n",
       "    </tr>\n",
       "  </tbody>\n",
       "</table>\n",
       "</div>"
      ],
      "text/plain": [
       "        Guess acc Find acc\n",
       "Nitrate     99.62    67.76"
      ]
     },
     "execution_count": 20,
     "metadata": {},
     "output_type": "execute_result"
    }
   ],
   "source": [
    "train_df, test_df, X_train, y_train, X_val, y_val = data_sets(del_cols)\n",
    "\n",
    "results = consec_test(train_df, test_df, X_train, y_train, X_val, y_val)\n",
    "del_cols.append(results.index[0])\n",
    "\n",
    "results.head(1)"
   ]
  },
  {
   "cell_type": "code",
   "execution_count": 21,
   "id": "241a3d83",
   "metadata": {},
   "outputs": [
    {
     "data": {
      "text/html": [
       "<div>\n",
       "<style scoped>\n",
       "    .dataframe tbody tr th:only-of-type {\n",
       "        vertical-align: middle;\n",
       "    }\n",
       "\n",
       "    .dataframe tbody tr th {\n",
       "        vertical-align: top;\n",
       "    }\n",
       "\n",
       "    .dataframe thead th {\n",
       "        text-align: right;\n",
       "    }\n",
       "</style>\n",
       "<table border=\"1\" class=\"dataframe\">\n",
       "  <thead>\n",
       "    <tr style=\"text-align: right;\">\n",
       "      <th></th>\n",
       "      <th>Guess acc</th>\n",
       "      <th>Find acc</th>\n",
       "    </tr>\n",
       "  </thead>\n",
       "  <tbody>\n",
       "    <tr>\n",
       "      <th>Fluoride</th>\n",
       "      <td>99.63</td>\n",
       "      <td>70.39</td>\n",
       "    </tr>\n",
       "  </tbody>\n",
       "</table>\n",
       "</div>"
      ],
      "text/plain": [
       "         Guess acc Find acc\n",
       "Fluoride     99.63    70.39"
      ]
     },
     "execution_count": 21,
     "metadata": {},
     "output_type": "execute_result"
    }
   ],
   "source": [
    "train_df, test_df, X_train, y_train, X_val, y_val = data_sets(del_cols)\n",
    "\n",
    "results = consec_test(train_df, test_df, X_train, y_train, X_val, y_val)\n",
    "del_cols.append(results.index[0])\n",
    "\n",
    "results.head(1)"
   ]
  },
  {
   "cell_type": "code",
   "execution_count": 22,
   "id": "4225bad8",
   "metadata": {},
   "outputs": [
    {
     "data": {
      "text/html": [
       "<div>\n",
       "<style scoped>\n",
       "    .dataframe tbody tr th:only-of-type {\n",
       "        vertical-align: middle;\n",
       "    }\n",
       "\n",
       "    .dataframe tbody tr th {\n",
       "        vertical-align: top;\n",
       "    }\n",
       "\n",
       "    .dataframe thead th {\n",
       "        text-align: right;\n",
       "    }\n",
       "</style>\n",
       "<table border=\"1\" class=\"dataframe\">\n",
       "  <thead>\n",
       "    <tr style=\"text-align: right;\">\n",
       "      <th></th>\n",
       "      <th>Guess acc</th>\n",
       "      <th>Find acc</th>\n",
       "    </tr>\n",
       "  </thead>\n",
       "  <tbody>\n",
       "    <tr>\n",
       "      <th>Enterococci</th>\n",
       "      <td>99.24</td>\n",
       "      <td>66.84</td>\n",
       "    </tr>\n",
       "  </tbody>\n",
       "</table>\n",
       "</div>"
      ],
      "text/plain": [
       "            Guess acc Find acc\n",
       "Enterococci     99.24    66.84"
      ]
     },
     "execution_count": 22,
     "metadata": {},
     "output_type": "execute_result"
    }
   ],
   "source": [
    "train_df, test_df, X_train, y_train, X_val, y_val = data_sets(del_cols)\n",
    "\n",
    "results = consec_test(train_df, test_df, X_train, y_train, X_val, y_val)\n",
    "del_cols.append(results.index[0])\n",
    "\n",
    "results.head(1)"
   ]
  },
  {
   "cell_type": "code",
   "execution_count": 23,
   "id": "e2685693",
   "metadata": {},
   "outputs": [
    {
     "data": {
      "text/html": [
       "<div>\n",
       "<style scoped>\n",
       "    .dataframe tbody tr th:only-of-type {\n",
       "        vertical-align: middle;\n",
       "    }\n",
       "\n",
       "    .dataframe tbody tr th {\n",
       "        vertical-align: top;\n",
       "    }\n",
       "\n",
       "    .dataframe thead th {\n",
       "        text-align: right;\n",
       "    }\n",
       "</style>\n",
       "<table border=\"1\" class=\"dataframe\">\n",
       "  <thead>\n",
       "    <tr style=\"text-align: right;\">\n",
       "      <th></th>\n",
       "      <th>Guess acc</th>\n",
       "      <th>Find acc</th>\n",
       "    </tr>\n",
       "  </thead>\n",
       "  <tbody>\n",
       "    <tr>\n",
       "      <th>Color-Pt-Co-unit</th>\n",
       "      <td>99.24</td>\n",
       "      <td>67.37</td>\n",
       "    </tr>\n",
       "  </tbody>\n",
       "</table>\n",
       "</div>"
      ],
      "text/plain": [
       "                 Guess acc Find acc\n",
       "Color-Pt-Co-unit     99.24    67.37"
      ]
     },
     "execution_count": 23,
     "metadata": {},
     "output_type": "execute_result"
    }
   ],
   "source": [
    "train_df, test_df, X_train, y_train, X_val, y_val = data_sets(del_cols)\n",
    "\n",
    "results = consec_test(train_df, test_df, X_train, y_train, X_val, y_val)\n",
    "del_cols.append(results.index[0])\n",
    "\n",
    "results.head(1)"
   ]
  },
  {
   "cell_type": "code",
   "execution_count": 24,
   "id": "cb7052cd",
   "metadata": {},
   "outputs": [
    {
     "data": {
      "text/html": [
       "<div>\n",
       "<style scoped>\n",
       "    .dataframe tbody tr th:only-of-type {\n",
       "        vertical-align: middle;\n",
       "    }\n",
       "\n",
       "    .dataframe tbody tr th {\n",
       "        vertical-align: top;\n",
       "    }\n",
       "\n",
       "    .dataframe thead th {\n",
       "        text-align: right;\n",
       "    }\n",
       "</style>\n",
       "<table border=\"1\" class=\"dataframe\">\n",
       "  <thead>\n",
       "    <tr style=\"text-align: right;\">\n",
       "      <th></th>\n",
       "      <th>Guess acc</th>\n",
       "      <th>Find acc</th>\n",
       "    </tr>\n",
       "  </thead>\n",
       "  <tbody>\n",
       "    <tr>\n",
       "      <th>Escherichia-coli-Colilert</th>\n",
       "      <td>99.4</td>\n",
       "      <td>65.39</td>\n",
       "    </tr>\n",
       "  </tbody>\n",
       "</table>\n",
       "</div>"
      ],
      "text/plain": [
       "                          Guess acc Find acc\n",
       "Escherichia-coli-Colilert      99.4    65.39"
      ]
     },
     "execution_count": 24,
     "metadata": {},
     "output_type": "execute_result"
    }
   ],
   "source": [
    "train_df, test_df, X_train, y_train, X_val, y_val = data_sets(del_cols)\n",
    "\n",
    "results = consec_test(train_df, test_df, X_train, y_train, X_val, y_val)\n",
    "del_cols.append(results.index[0])\n",
    "\n",
    "results.head(1)"
   ]
  },
  {
   "cell_type": "code",
   "execution_count": 25,
   "id": "06daded8",
   "metadata": {},
   "outputs": [
    {
     "name": "stdout",
     "output_type": "stream",
     "text": [
      "['Ammonium', 'Chloride', 'Coli-like-bacteria-Colilert', 'Colony-count-at-22-C', 'Escherichia-coli', 'Iron', 'Manganese', 'Sodium', 'Taste-dilution-degree', 'pH ']\n"
     ]
    }
   ],
   "source": [
    "train_df, test_df, X_train, y_train, X_val, y_val = data_sets(del_cols)\n",
    "print(X_train.columns.to_list())"
   ]
  },
  {
   "cell_type": "code",
   "execution_count": 27,
   "id": "0d252f58",
   "metadata": {},
   "outputs": [
    {
     "name": "stdout",
     "output_type": "stream",
     "text": [
      "Model accuracy: 93.18%\n"
     ]
    }
   ],
   "source": [
    "model = RFC()\n",
    "acc = cross_val_score(model, X_train, y_train, cv = 5).mean()\n",
    "print(\"Model accuracy:\", str(round(acc*100, 2)) + \"%\")"
   ]
  },
  {
   "cell_type": "markdown",
   "id": "09ceb6fb",
   "metadata": {},
   "source": [
    "<font size=3>*If more columns are removed, then the guess accuracy will start to drastically decrease. <br>\n",
    "    When using the above listed features to train the learning model, its accuracy is about 93% and if it guesses that <br>\n",
    "    the station is in compliance, it is over 99% of times correct*<font>"
   ]
  }
 ],
 "metadata": {
  "kernelspec": {
   "display_name": "Python 3 (ipykernel)",
   "language": "python",
   "name": "python3"
  },
  "language_info": {
   "codemirror_mode": {
    "name": "ipython",
    "version": 3
   },
   "file_extension": ".py",
   "mimetype": "text/x-python",
   "name": "python",
   "nbconvert_exporter": "python",
   "pygments_lexer": "ipython3",
   "version": "3.9.12"
  }
 },
 "nbformat": 4,
 "nbformat_minor": 5
}
