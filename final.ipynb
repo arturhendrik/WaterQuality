{
 "cells": [
  {
   "cell_type": "code",
   "execution_count": 1,
   "id": "9c63a728",
   "metadata": {},
   "outputs": [],
   "source": [
    "import pandas as pd\n",
    "import numpy as np\n",
    "import matplotlib.pyplot as plt\n",
    "from sklearn.ensemble import RandomForestClassifier as RFC\n",
    "from sklearn.metrics import confusion_matrix"
   ]
  },
  {
   "cell_type": "code",
   "execution_count": 2,
   "id": "b598e704",
   "metadata": {},
   "outputs": [],
   "source": [
    "def sep_years(dataframe):\n",
    "\n",
    "    comp_19 = dataframe\n",
    "    comp_20 = dataframe\n",
    "\n",
    "    cols = dataframe.columns\n",
    "\n",
    "    for i in range((len(cols))//2):\n",
    "        comp_19 = comp_19.drop(columns = cols[i*2+1])\n",
    "        comp_20 = comp_20.drop(columns = cols[i*2])\n",
    "\n",
    "    cols_19 = comp_19.columns\n",
    "    cols_20 = comp_20.columns\n",
    "\n",
    "    for i in range((len(cols_19))):\n",
    "        comp_19 = comp_19.rename(columns={cols_19[i] : cols_19[i][:-5]})\n",
    "        comp_20 = comp_20.rename(columns={cols_20[i] : cols_20[i][:-5]})\n",
    "    \n",
    "        \n",
    "    return [comp_19, comp_20]"
   ]
  },
  {
   "cell_type": "code",
   "execution_count": 3,
   "id": "58a30a8d",
   "metadata": {},
   "outputs": [],
   "source": [
    "def data(file):\n",
    "    \n",
    "    try:\n",
    "        dataframe = pd.read_csv(file).drop(columns=[\"station_id\", \"compliance_2021\"])\n",
    "    except:\n",
    "        dataframe = pd.read_csv(file).drop(columns=\"station_id\")\n",
    "\n",
    "    comp_19, comp_20 = sep_years(dataframe)\n",
    "    dataframe = pd.concat([comp_19, comp_20], ignore_index=True)\n",
    "    \n",
    "    dataframe = dataframe.fillna(dataframe.mean())\n",
    "    \n",
    "    return dataframe"
   ]
  },
  {
   "cell_type": "code",
   "execution_count": 4,
   "id": "41f5871c",
   "metadata": {},
   "outputs": [],
   "source": [
    "def test(X_train, y_train, X_val, y_val, col, results, reps):\n",
    "    pos_guess_acc = []\n",
    "    pos_cases_found = []\n",
    "\n",
    "    for i in range(reps):\n",
    "        model = RFC().fit(X_train, y_train)\n",
    "        pred = model.predict(X_val)\n",
    "        matrix = confusion_matrix(y_val.values, pred, labels=[1,0])\n",
    "        \n",
    "        tp = matrix[0][0]\n",
    "        fp = matrix[1][0]\n",
    "        fn = matrix[0][1]\n",
    "\n",
    "        pos_guess_acc.append(tp/(fp + tp))\n",
    "        pos_cases_found.append(tp/(fn + tp))\n",
    "\n",
    "    avg_pos_guess_acc = round(100 * sum(pos_guess_acc) / len(pos_guess_acc) , 2)\n",
    "    avg_pos_cases_found = round(100 * sum(pos_cases_found) / len(pos_cases_found) , 2)\n",
    "    \n",
    "    try:\n",
    "        results.at[col, \"Guess acc\"] = avg_pos_guess_acc\n",
    "        results.at[col, \"Find acc\"] = avg_pos_cases_found\n",
    "    \n",
    "        return results\n",
    "    \n",
    "    except:\n",
    "        pass\n",
    "    "
   ]
  },
  {
   "cell_type": "code",
   "execution_count": 5,
   "id": "2a393e67",
   "metadata": {},
   "outputs": [],
   "source": [
    "train_df = data(\"train.csv\")\n",
    "test_df = data(\"test.csv\")\n",
    "\n",
    "del_cols = []\n",
    "\n",
    "X_train = train_df.drop(columns=\"compliance\")\n",
    "y_train = train_df[\"compliance\"]\n",
    "\n",
    "X_val = test_df.drop(columns=\"compliance\")\n",
    "y_val = test_df[\"compliance\"]"
   ]
  },
  {
   "cell_type": "code",
   "execution_count": 6,
   "id": "cc1e6feb",
   "metadata": {},
   "outputs": [
    {
     "data": {
      "text/html": [
       "<div>\n",
       "<style scoped>\n",
       "    .dataframe tbody tr th:only-of-type {\n",
       "        vertical-align: middle;\n",
       "    }\n",
       "\n",
       "    .dataframe tbody tr th {\n",
       "        vertical-align: top;\n",
       "    }\n",
       "\n",
       "    .dataframe thead th {\n",
       "        text-align: right;\n",
       "    }\n",
       "</style>\n",
       "<table border=\"1\" class=\"dataframe\">\n",
       "  <thead>\n",
       "    <tr style=\"text-align: right;\">\n",
       "      <th></th>\n",
       "      <th>Guess acc</th>\n",
       "      <th>Find acc</th>\n",
       "    </tr>\n",
       "  </thead>\n",
       "  <tbody>\n",
       "    <tr>\n",
       "      <th>Coli-like-bacteria</th>\n",
       "      <td>90.41</td>\n",
       "      <td>71.05</td>\n",
       "    </tr>\n",
       "  </tbody>\n",
       "</table>\n",
       "</div>"
      ],
      "text/plain": [
       "                   Guess acc Find acc\n",
       "Coli-like-bacteria     90.41    71.05"
      ]
     },
     "execution_count": 6,
     "metadata": {},
     "output_type": "execute_result"
    }
   ],
   "source": [
    "cols = X_train.columns\n",
    "results = pd.DataFrame(columns = [\"Guess acc\", \"Find acc\"], index = cols)\n",
    "\n",
    "for col in cols:\n",
    "    X_train = train_df.drop(columns=[\"compliance\", col])\n",
    "    y_train = train_df[\"compliance\"]\n",
    "\n",
    "    X_val = test_df.drop(columns=[\"compliance\", col])\n",
    "    y_val = test_df[\"compliance\"]\n",
    "    \n",
    "    results = test(X_train, y_train, X_val, y_val, col, results, 10)\n",
    "    \n",
    "\n",
    "results = results.sort_values(by = \"Guess acc\", ascending = False)\n",
    "del_cols.append(results.index[0])\n",
    "\n",
    "results.head(1)"
   ]
  },
  {
   "cell_type": "code",
   "execution_count": 7,
   "id": "eaf0f16f",
   "metadata": {},
   "outputs": [],
   "source": [
    "def data_sets(del_cols):\n",
    "    train_df = data(\"train.csv\").drop(columns=del_cols)\n",
    "    test_df = data(\"test.csv\").drop(columns=del_cols)\n",
    "\n",
    "    X_train = train_df.drop(columns=\"compliance\")\n",
    "    y_train = train_df[\"compliance\"]\n",
    "\n",
    "    X_val = test_df.drop(columns=\"compliance\")\n",
    "    y_val = test_df[\"compliance\"]\n",
    "    \n",
    "    return [train_df, test_df, X_train, y_train, X_val, y_val]\n",
    "    "
   ]
  },
  {
   "cell_type": "code",
   "execution_count": 8,
   "id": "5971ff8c",
   "metadata": {},
   "outputs": [],
   "source": [
    "def consec_test(train_df, test_df, X_train, y_train, X_val, y_val):\n",
    "    cols = X_train.columns\n",
    "    results = pd.DataFrame(columns = [\"Guess acc\", \"Find acc\"], index = cols)\n",
    "\n",
    "    for col in cols:\n",
    "        X_train = train_df.drop(columns=[\"compliance\", col])\n",
    "        y_train = train_df[\"compliance\"]\n",
    "\n",
    "        X_val = test_df.drop(columns=[\"compliance\", col])\n",
    "        y_val = test_df[\"compliance\"]\n",
    "\n",
    "        results = test(X_train, y_train, X_val, y_val, col, results, 10)\n",
    "\n",
    "\n",
    "    results = results.sort_values(by = \"Guess acc\", ascending = False)\n",
    "\n",
    "    \n",
    "    return results"
   ]
  },
  {
   "cell_type": "code",
   "execution_count": 9,
   "id": "c03aa5f6",
   "metadata": {},
   "outputs": [
    {
     "data": {
      "text/html": [
       "<div>\n",
       "<style scoped>\n",
       "    .dataframe tbody tr th:only-of-type {\n",
       "        vertical-align: middle;\n",
       "    }\n",
       "\n",
       "    .dataframe tbody tr th {\n",
       "        vertical-align: top;\n",
       "    }\n",
       "\n",
       "    .dataframe thead th {\n",
       "        text-align: right;\n",
       "    }\n",
       "</style>\n",
       "<table border=\"1\" class=\"dataframe\">\n",
       "  <thead>\n",
       "    <tr style=\"text-align: right;\">\n",
       "      <th></th>\n",
       "      <th>Guess acc</th>\n",
       "      <th>Find acc</th>\n",
       "    </tr>\n",
       "  </thead>\n",
       "  <tbody>\n",
       "    <tr>\n",
       "      <th>Boron</th>\n",
       "      <td>95.23</td>\n",
       "      <td>67.89</td>\n",
       "    </tr>\n",
       "  </tbody>\n",
       "</table>\n",
       "</div>"
      ],
      "text/plain": [
       "      Guess acc Find acc\n",
       "Boron     95.23    67.89"
      ]
     },
     "execution_count": 9,
     "metadata": {},
     "output_type": "execute_result"
    }
   ],
   "source": [
    "train_df, test_df, X_train, y_train, X_val, y_val = data_sets(del_cols)\n",
    "\n",
    "results = consec_test(train_df, test_df, X_train, y_train, X_val, y_val)\n",
    "del_cols.append(results.index[0])\n",
    "\n",
    "results.head(1)"
   ]
  },
  {
   "cell_type": "code",
   "execution_count": 10,
   "id": "dfa3ea34",
   "metadata": {},
   "outputs": [
    {
     "data": {
      "text/html": [
       "<div>\n",
       "<style scoped>\n",
       "    .dataframe tbody tr th:only-of-type {\n",
       "        vertical-align: middle;\n",
       "    }\n",
       "\n",
       "    .dataframe tbody tr th {\n",
       "        vertical-align: top;\n",
       "    }\n",
       "\n",
       "    .dataframe thead th {\n",
       "        text-align: right;\n",
       "    }\n",
       "</style>\n",
       "<table border=\"1\" class=\"dataframe\">\n",
       "  <thead>\n",
       "    <tr style=\"text-align: right;\">\n",
       "      <th></th>\n",
       "      <th>Guess acc</th>\n",
       "      <th>Find acc</th>\n",
       "    </tr>\n",
       "  </thead>\n",
       "  <tbody>\n",
       "    <tr>\n",
       "      <th>Oxidability</th>\n",
       "      <td>96.38</td>\n",
       "      <td>66.05</td>\n",
       "    </tr>\n",
       "  </tbody>\n",
       "</table>\n",
       "</div>"
      ],
      "text/plain": [
       "            Guess acc Find acc\n",
       "Oxidability     96.38    66.05"
      ]
     },
     "execution_count": 10,
     "metadata": {},
     "output_type": "execute_result"
    }
   ],
   "source": [
    "train_df, test_df, X_train, y_train, X_val, y_val = data_sets(del_cols)\n",
    "\n",
    "results = consec_test(train_df, test_df, X_train, y_train, X_val, y_val)\n",
    "del_cols.append(results.index[0])\n",
    "\n",
    "results.head(1)"
   ]
  },
  {
   "cell_type": "code",
   "execution_count": 11,
   "id": "3f674983",
   "metadata": {},
   "outputs": [
    {
     "data": {
      "text/html": [
       "<div>\n",
       "<style scoped>\n",
       "    .dataframe tbody tr th:only-of-type {\n",
       "        vertical-align: middle;\n",
       "    }\n",
       "\n",
       "    .dataframe tbody tr th {\n",
       "        vertical-align: top;\n",
       "    }\n",
       "\n",
       "    .dataframe thead th {\n",
       "        text-align: right;\n",
       "    }\n",
       "</style>\n",
       "<table border=\"1\" class=\"dataframe\">\n",
       "  <thead>\n",
       "    <tr style=\"text-align: right;\">\n",
       "      <th></th>\n",
       "      <th>Guess acc</th>\n",
       "      <th>Find acc</th>\n",
       "    </tr>\n",
       "  </thead>\n",
       "  <tbody>\n",
       "    <tr>\n",
       "      <th>Odour-dilution-level</th>\n",
       "      <td>97.81</td>\n",
       "      <td>64.61</td>\n",
       "    </tr>\n",
       "  </tbody>\n",
       "</table>\n",
       "</div>"
      ],
      "text/plain": [
       "                     Guess acc Find acc\n",
       "Odour-dilution-level     97.81    64.61"
      ]
     },
     "execution_count": 11,
     "metadata": {},
     "output_type": "execute_result"
    }
   ],
   "source": [
    "train_df, test_df, X_train, y_train, X_val, y_val = data_sets(del_cols)\n",
    "\n",
    "results = consec_test(train_df, test_df, X_train, y_train, X_val, y_val)\n",
    "del_cols.append(results.index[0])\n",
    "\n",
    "results.head(1)"
   ]
  },
  {
   "cell_type": "code",
   "execution_count": 12,
   "id": "3c108872",
   "metadata": {},
   "outputs": [
    {
     "data": {
      "text/html": [
       "<div>\n",
       "<style scoped>\n",
       "    .dataframe tbody tr th:only-of-type {\n",
       "        vertical-align: middle;\n",
       "    }\n",
       "\n",
       "    .dataframe tbody tr th {\n",
       "        vertical-align: top;\n",
       "    }\n",
       "\n",
       "    .dataframe thead th {\n",
       "        text-align: right;\n",
       "    }\n",
       "</style>\n",
       "<table border=\"1\" class=\"dataframe\">\n",
       "  <thead>\n",
       "    <tr style=\"text-align: right;\">\n",
       "      <th></th>\n",
       "      <th>Guess acc</th>\n",
       "      <th>Find acc</th>\n",
       "    </tr>\n",
       "  </thead>\n",
       "  <tbody>\n",
       "    <tr>\n",
       "      <th>Turbidity-NTU</th>\n",
       "      <td>98.64</td>\n",
       "      <td>65.26</td>\n",
       "    </tr>\n",
       "  </tbody>\n",
       "</table>\n",
       "</div>"
      ],
      "text/plain": [
       "              Guess acc Find acc\n",
       "Turbidity-NTU     98.64    65.26"
      ]
     },
     "execution_count": 12,
     "metadata": {},
     "output_type": "execute_result"
    }
   ],
   "source": [
    "train_df, test_df, X_train, y_train, X_val, y_val = data_sets(del_cols)\n",
    "\n",
    "results = consec_test(train_df, test_df, X_train, y_train, X_val, y_val)\n",
    "del_cols.append(results.index[0])\n",
    "\n",
    "results.head(1)"
   ]
  },
  {
   "cell_type": "code",
   "execution_count": 13,
   "id": "40b82953",
   "metadata": {},
   "outputs": [
    {
     "data": {
      "text/html": [
       "<div>\n",
       "<style scoped>\n",
       "    .dataframe tbody tr th:only-of-type {\n",
       "        vertical-align: middle;\n",
       "    }\n",
       "\n",
       "    .dataframe tbody tr th {\n",
       "        vertical-align: top;\n",
       "    }\n",
       "\n",
       "    .dataframe thead th {\n",
       "        text-align: right;\n",
       "    }\n",
       "</style>\n",
       "<table border=\"1\" class=\"dataframe\">\n",
       "  <thead>\n",
       "    <tr style=\"text-align: right;\">\n",
       "      <th></th>\n",
       "      <th>Guess acc</th>\n",
       "      <th>Find acc</th>\n",
       "    </tr>\n",
       "  </thead>\n",
       "  <tbody>\n",
       "    <tr>\n",
       "      <th>Nitrite</th>\n",
       "      <td>99.04</td>\n",
       "      <td>66.58</td>\n",
       "    </tr>\n",
       "  </tbody>\n",
       "</table>\n",
       "</div>"
      ],
      "text/plain": [
       "        Guess acc Find acc\n",
       "Nitrite     99.04    66.58"
      ]
     },
     "execution_count": 13,
     "metadata": {},
     "output_type": "execute_result"
    }
   ],
   "source": [
    "train_df, test_df, X_train, y_train, X_val, y_val = data_sets(del_cols)\n",
    "\n",
    "results = consec_test(train_df, test_df, X_train, y_train, X_val, y_val)\n",
    "del_cols.append(results.index[0])\n",
    "\n",
    "results.head(1)"
   ]
  },
  {
   "cell_type": "code",
   "execution_count": 14,
   "id": "44723aff",
   "metadata": {},
   "outputs": [
    {
     "data": {
      "text/html": [
       "<div>\n",
       "<style scoped>\n",
       "    .dataframe tbody tr th:only-of-type {\n",
       "        vertical-align: middle;\n",
       "    }\n",
       "\n",
       "    .dataframe tbody tr th {\n",
       "        vertical-align: top;\n",
       "    }\n",
       "\n",
       "    .dataframe thead th {\n",
       "        text-align: right;\n",
       "    }\n",
       "</style>\n",
       "<table border=\"1\" class=\"dataframe\">\n",
       "  <thead>\n",
       "    <tr style=\"text-align: right;\">\n",
       "      <th></th>\n",
       "      <th>Guess acc</th>\n",
       "      <th>Find acc</th>\n",
       "    </tr>\n",
       "  </thead>\n",
       "  <tbody>\n",
       "    <tr>\n",
       "      <th>Taste-ball-units</th>\n",
       "      <td>98.7</td>\n",
       "      <td>66.84</td>\n",
       "    </tr>\n",
       "  </tbody>\n",
       "</table>\n",
       "</div>"
      ],
      "text/plain": [
       "                 Guess acc Find acc\n",
       "Taste-ball-units      98.7    66.84"
      ]
     },
     "execution_count": 14,
     "metadata": {},
     "output_type": "execute_result"
    }
   ],
   "source": [
    "train_df, test_df, X_train, y_train, X_val, y_val = data_sets(del_cols)\n",
    "\n",
    "results = consec_test(train_df, test_df, X_train, y_train, X_val, y_val)\n",
    "del_cols.append(results.index[0])\n",
    "\n",
    "results.head(1)"
   ]
  },
  {
   "cell_type": "code",
   "execution_count": 15,
   "id": "b26f4226",
   "metadata": {},
   "outputs": [
    {
     "data": {
      "text/html": [
       "<div>\n",
       "<style scoped>\n",
       "    .dataframe tbody tr th:only-of-type {\n",
       "        vertical-align: middle;\n",
       "    }\n",
       "\n",
       "    .dataframe tbody tr th {\n",
       "        vertical-align: top;\n",
       "    }\n",
       "\n",
       "    .dataframe thead th {\n",
       "        text-align: right;\n",
       "    }\n",
       "</style>\n",
       "<table border=\"1\" class=\"dataframe\">\n",
       "  <thead>\n",
       "    <tr style=\"text-align: right;\">\n",
       "      <th></th>\n",
       "      <th>Guess acc</th>\n",
       "      <th>Find acc</th>\n",
       "    </tr>\n",
       "  </thead>\n",
       "  <tbody>\n",
       "    <tr>\n",
       "      <th>Electrical-conductivity</th>\n",
       "      <td>99.25</td>\n",
       "      <td>68.03</td>\n",
       "    </tr>\n",
       "  </tbody>\n",
       "</table>\n",
       "</div>"
      ],
      "text/plain": [
       "                        Guess acc Find acc\n",
       "Electrical-conductivity     99.25    68.03"
      ]
     },
     "execution_count": 15,
     "metadata": {},
     "output_type": "execute_result"
    }
   ],
   "source": [
    "train_df, test_df, X_train, y_train, X_val, y_val = data_sets(del_cols)\n",
    "\n",
    "results = consec_test(train_df, test_df, X_train, y_train, X_val, y_val)\n",
    "del_cols.append(results.index[0])\n",
    "\n",
    "results.head(1)"
   ]
  },
  {
   "cell_type": "code",
   "execution_count": 16,
   "id": "14560aa1",
   "metadata": {},
   "outputs": [
    {
     "data": {
      "text/html": [
       "<div>\n",
       "<style scoped>\n",
       "    .dataframe tbody tr th:only-of-type {\n",
       "        vertical-align: middle;\n",
       "    }\n",
       "\n",
       "    .dataframe tbody tr th {\n",
       "        vertical-align: top;\n",
       "    }\n",
       "\n",
       "    .dataframe thead th {\n",
       "        text-align: right;\n",
       "    }\n",
       "</style>\n",
       "<table border=\"1\" class=\"dataframe\">\n",
       "  <thead>\n",
       "    <tr style=\"text-align: right;\">\n",
       "      <th></th>\n",
       "      <th>Guess acc</th>\n",
       "      <th>Find acc</th>\n",
       "    </tr>\n",
       "  </thead>\n",
       "  <tbody>\n",
       "    <tr>\n",
       "      <th>Sulphate</th>\n",
       "      <td>99.23</td>\n",
       "      <td>68.16</td>\n",
       "    </tr>\n",
       "  </tbody>\n",
       "</table>\n",
       "</div>"
      ],
      "text/plain": [
       "         Guess acc Find acc\n",
       "Sulphate     99.23    68.16"
      ]
     },
     "execution_count": 16,
     "metadata": {},
     "output_type": "execute_result"
    }
   ],
   "source": [
    "train_df, test_df, X_train, y_train, X_val, y_val = data_sets(del_cols)\n",
    "\n",
    "results = consec_test(train_df, test_df, X_train, y_train, X_val, y_val)\n",
    "del_cols.append(results.index[0])\n",
    "\n",
    "results.head(1)"
   ]
  },
  {
   "cell_type": "code",
   "execution_count": 17,
   "id": "10dab61a",
   "metadata": {},
   "outputs": [
    {
     "data": {
      "text/html": [
       "<div>\n",
       "<style scoped>\n",
       "    .dataframe tbody tr th:only-of-type {\n",
       "        vertical-align: middle;\n",
       "    }\n",
       "\n",
       "    .dataframe tbody tr th {\n",
       "        vertical-align: top;\n",
       "    }\n",
       "\n",
       "    .dataframe thead th {\n",
       "        text-align: right;\n",
       "    }\n",
       "</style>\n",
       "<table border=\"1\" class=\"dataframe\">\n",
       "  <thead>\n",
       "    <tr style=\"text-align: right;\">\n",
       "      <th></th>\n",
       "      <th>Guess acc</th>\n",
       "      <th>Find acc</th>\n",
       "    </tr>\n",
       "  </thead>\n",
       "  <tbody>\n",
       "    <tr>\n",
       "      <th>Aluminium</th>\n",
       "      <td>99.43</td>\n",
       "      <td>67.37</td>\n",
       "    </tr>\n",
       "  </tbody>\n",
       "</table>\n",
       "</div>"
      ],
      "text/plain": [
       "          Guess acc Find acc\n",
       "Aluminium     99.43    67.37"
      ]
     },
     "execution_count": 17,
     "metadata": {},
     "output_type": "execute_result"
    }
   ],
   "source": [
    "train_df, test_df, X_train, y_train, X_val, y_val = data_sets(del_cols)\n",
    "\n",
    "results = consec_test(train_df, test_df, X_train, y_train, X_val, y_val)\n",
    "del_cols.append(results.index[0])\n",
    "\n",
    "results.head(1)"
   ]
  },
  {
   "cell_type": "code",
   "execution_count": 18,
   "id": "d18b6520",
   "metadata": {},
   "outputs": [
    {
     "data": {
      "text/html": [
       "<div>\n",
       "<style scoped>\n",
       "    .dataframe tbody tr th:only-of-type {\n",
       "        vertical-align: middle;\n",
       "    }\n",
       "\n",
       "    .dataframe tbody tr th {\n",
       "        vertical-align: top;\n",
       "    }\n",
       "\n",
       "    .dataframe thead th {\n",
       "        text-align: right;\n",
       "    }\n",
       "</style>\n",
       "<table border=\"1\" class=\"dataframe\">\n",
       "  <thead>\n",
       "    <tr style=\"text-align: right;\">\n",
       "      <th></th>\n",
       "      <th>Guess acc</th>\n",
       "      <th>Find acc</th>\n",
       "    </tr>\n",
       "  </thead>\n",
       "  <tbody>\n",
       "    <tr>\n",
       "      <th>Smell-ball-units</th>\n",
       "      <td>99.63</td>\n",
       "      <td>68.82</td>\n",
       "    </tr>\n",
       "  </tbody>\n",
       "</table>\n",
       "</div>"
      ],
      "text/plain": [
       "                 Guess acc Find acc\n",
       "Smell-ball-units     99.63    68.82"
      ]
     },
     "execution_count": 18,
     "metadata": {},
     "output_type": "execute_result"
    }
   ],
   "source": [
    "train_df, test_df, X_train, y_train, X_val, y_val = data_sets(del_cols)\n",
    "\n",
    "results = consec_test(train_df, test_df, X_train, y_train, X_val, y_val)\n",
    "del_cols.append(results.index[0])\n",
    "\n",
    "results.head(1)"
   ]
  },
  {
   "cell_type": "code",
   "execution_count": 19,
   "id": "352adc7d",
   "metadata": {},
   "outputs": [
    {
     "data": {
      "text/html": [
       "<div>\n",
       "<style scoped>\n",
       "    .dataframe tbody tr th:only-of-type {\n",
       "        vertical-align: middle;\n",
       "    }\n",
       "\n",
       "    .dataframe tbody tr th {\n",
       "        vertical-align: top;\n",
       "    }\n",
       "\n",
       "    .dataframe thead th {\n",
       "        text-align: right;\n",
       "    }\n",
       "</style>\n",
       "<table border=\"1\" class=\"dataframe\">\n",
       "  <thead>\n",
       "    <tr style=\"text-align: right;\">\n",
       "      <th></th>\n",
       "      <th>Guess acc</th>\n",
       "      <th>Find acc</th>\n",
       "    </tr>\n",
       "  </thead>\n",
       "  <tbody>\n",
       "    <tr>\n",
       "      <th>Color-Pt/Co-scale</th>\n",
       "      <td>99.81</td>\n",
       "      <td>67.24</td>\n",
       "    </tr>\n",
       "  </tbody>\n",
       "</table>\n",
       "</div>"
      ],
      "text/plain": [
       "                  Guess acc Find acc\n",
       "Color-Pt/Co-scale     99.81    67.24"
      ]
     },
     "execution_count": 19,
     "metadata": {},
     "output_type": "execute_result"
    }
   ],
   "source": [
    "train_df, test_df, X_train, y_train, X_val, y_val = data_sets(del_cols)\n",
    "\n",
    "results = consec_test(train_df, test_df, X_train, y_train, X_val, y_val)\n",
    "del_cols.append(results.index[0])\n",
    "\n",
    "results.head(1)"
   ]
  },
  {
   "cell_type": "code",
   "execution_count": 20,
   "id": "0edc2a88",
   "metadata": {},
   "outputs": [
    {
     "data": {
      "text/html": [
       "<div>\n",
       "<style scoped>\n",
       "    .dataframe tbody tr th:only-of-type {\n",
       "        vertical-align: middle;\n",
       "    }\n",
       "\n",
       "    .dataframe tbody tr th {\n",
       "        vertical-align: top;\n",
       "    }\n",
       "\n",
       "    .dataframe thead th {\n",
       "        text-align: right;\n",
       "    }\n",
       "</style>\n",
       "<table border=\"1\" class=\"dataframe\">\n",
       "  <thead>\n",
       "    <tr style=\"text-align: right;\">\n",
       "      <th></th>\n",
       "      <th>Guess acc</th>\n",
       "      <th>Find acc</th>\n",
       "    </tr>\n",
       "  </thead>\n",
       "  <tbody>\n",
       "    <tr>\n",
       "      <th>Nitrate</th>\n",
       "      <td>99.62</td>\n",
       "      <td>67.76</td>\n",
       "    </tr>\n",
       "  </tbody>\n",
       "</table>\n",
       "</div>"
      ],
      "text/plain": [
       "        Guess acc Find acc\n",
       "Nitrate     99.62    67.76"
      ]
     },
     "execution_count": 20,
     "metadata": {},
     "output_type": "execute_result"
    }
   ],
   "source": [
    "train_df, test_df, X_train, y_train, X_val, y_val = data_sets(del_cols)\n",
    "\n",
    "results = consec_test(train_df, test_df, X_train, y_train, X_val, y_val)\n",
    "del_cols.append(results.index[0])\n",
    "\n",
    "results.head(1)"
   ]
  },
  {
   "cell_type": "code",
   "execution_count": 21,
   "id": "1e024bc3",
   "metadata": {},
   "outputs": [
    {
     "data": {
      "text/html": [
       "<div>\n",
       "<style scoped>\n",
       "    .dataframe tbody tr th:only-of-type {\n",
       "        vertical-align: middle;\n",
       "    }\n",
       "\n",
       "    .dataframe tbody tr th {\n",
       "        vertical-align: top;\n",
       "    }\n",
       "\n",
       "    .dataframe thead th {\n",
       "        text-align: right;\n",
       "    }\n",
       "</style>\n",
       "<table border=\"1\" class=\"dataframe\">\n",
       "  <thead>\n",
       "    <tr style=\"text-align: right;\">\n",
       "      <th></th>\n",
       "      <th>Guess acc</th>\n",
       "      <th>Find acc</th>\n",
       "    </tr>\n",
       "  </thead>\n",
       "  <tbody>\n",
       "    <tr>\n",
       "      <th>Fluoride</th>\n",
       "      <td>99.63</td>\n",
       "      <td>70.39</td>\n",
       "    </tr>\n",
       "  </tbody>\n",
       "</table>\n",
       "</div>"
      ],
      "text/plain": [
       "         Guess acc Find acc\n",
       "Fluoride     99.63    70.39"
      ]
     },
     "execution_count": 21,
     "metadata": {},
     "output_type": "execute_result"
    }
   ],
   "source": [
    "train_df, test_df, X_train, y_train, X_val, y_val = data_sets(del_cols)\n",
    "\n",
    "results = consec_test(train_df, test_df, X_train, y_train, X_val, y_val)\n",
    "del_cols.append(results.index[0])\n",
    "\n",
    "results.head(1)"
   ]
  },
  {
   "cell_type": "code",
   "execution_count": 22,
   "id": "d7f7dad1",
   "metadata": {},
   "outputs": [
    {
     "data": {
      "text/html": [
       "<div>\n",
       "<style scoped>\n",
       "    .dataframe tbody tr th:only-of-type {\n",
       "        vertical-align: middle;\n",
       "    }\n",
       "\n",
       "    .dataframe tbody tr th {\n",
       "        vertical-align: top;\n",
       "    }\n",
       "\n",
       "    .dataframe thead th {\n",
       "        text-align: right;\n",
       "    }\n",
       "</style>\n",
       "<table border=\"1\" class=\"dataframe\">\n",
       "  <thead>\n",
       "    <tr style=\"text-align: right;\">\n",
       "      <th></th>\n",
       "      <th>Guess acc</th>\n",
       "      <th>Find acc</th>\n",
       "    </tr>\n",
       "  </thead>\n",
       "  <tbody>\n",
       "    <tr>\n",
       "      <th>Enterococci</th>\n",
       "      <td>99.24</td>\n",
       "      <td>66.84</td>\n",
       "    </tr>\n",
       "  </tbody>\n",
       "</table>\n",
       "</div>"
      ],
      "text/plain": [
       "            Guess acc Find acc\n",
       "Enterococci     99.24    66.84"
      ]
     },
     "execution_count": 22,
     "metadata": {},
     "output_type": "execute_result"
    }
   ],
   "source": [
    "train_df, test_df, X_train, y_train, X_val, y_val = data_sets(del_cols)\n",
    "\n",
    "results = consec_test(train_df, test_df, X_train, y_train, X_val, y_val)\n",
    "del_cols.append(results.index[0])\n",
    "\n",
    "results.head(1)"
   ]
  },
  {
   "cell_type": "code",
   "execution_count": 23,
   "id": "8149207d",
   "metadata": {},
   "outputs": [
    {
     "data": {
      "text/html": [
       "<div>\n",
       "<style scoped>\n",
       "    .dataframe tbody tr th:only-of-type {\n",
       "        vertical-align: middle;\n",
       "    }\n",
       "\n",
       "    .dataframe tbody tr th {\n",
       "        vertical-align: top;\n",
       "    }\n",
       "\n",
       "    .dataframe thead th {\n",
       "        text-align: right;\n",
       "    }\n",
       "</style>\n",
       "<table border=\"1\" class=\"dataframe\">\n",
       "  <thead>\n",
       "    <tr style=\"text-align: right;\">\n",
       "      <th></th>\n",
       "      <th>Guess acc</th>\n",
       "      <th>Find acc</th>\n",
       "    </tr>\n",
       "  </thead>\n",
       "  <tbody>\n",
       "    <tr>\n",
       "      <th>Color-Pt-Co-unit</th>\n",
       "      <td>99.24</td>\n",
       "      <td>67.37</td>\n",
       "    </tr>\n",
       "  </tbody>\n",
       "</table>\n",
       "</div>"
      ],
      "text/plain": [
       "                 Guess acc Find acc\n",
       "Color-Pt-Co-unit     99.24    67.37"
      ]
     },
     "execution_count": 23,
     "metadata": {},
     "output_type": "execute_result"
    }
   ],
   "source": [
    "train_df, test_df, X_train, y_train, X_val, y_val = data_sets(del_cols)\n",
    "\n",
    "results = consec_test(train_df, test_df, X_train, y_train, X_val, y_val)\n",
    "del_cols.append(results.index[0])\n",
    "\n",
    "results.head(1)"
   ]
  },
  {
   "cell_type": "code",
   "execution_count": 24,
   "id": "db26d227",
   "metadata": {},
   "outputs": [
    {
     "data": {
      "text/html": [
       "<div>\n",
       "<style scoped>\n",
       "    .dataframe tbody tr th:only-of-type {\n",
       "        vertical-align: middle;\n",
       "    }\n",
       "\n",
       "    .dataframe tbody tr th {\n",
       "        vertical-align: top;\n",
       "    }\n",
       "\n",
       "    .dataframe thead th {\n",
       "        text-align: right;\n",
       "    }\n",
       "</style>\n",
       "<table border=\"1\" class=\"dataframe\">\n",
       "  <thead>\n",
       "    <tr style=\"text-align: right;\">\n",
       "      <th></th>\n",
       "      <th>Guess acc</th>\n",
       "      <th>Find acc</th>\n",
       "    </tr>\n",
       "  </thead>\n",
       "  <tbody>\n",
       "    <tr>\n",
       "      <th>Escherichia-coli-Colilert</th>\n",
       "      <td>99.4</td>\n",
       "      <td>65.39</td>\n",
       "    </tr>\n",
       "  </tbody>\n",
       "</table>\n",
       "</div>"
      ],
      "text/plain": [
       "                          Guess acc Find acc\n",
       "Escherichia-coli-Colilert      99.4    65.39"
      ]
     },
     "execution_count": 24,
     "metadata": {},
     "output_type": "execute_result"
    }
   ],
   "source": [
    "train_df, test_df, X_train, y_train, X_val, y_val = data_sets(del_cols)\n",
    "\n",
    "results = consec_test(train_df, test_df, X_train, y_train, X_val, y_val)\n",
    "del_cols.append(results.index[0])\n",
    "\n",
    "results.head(1)"
   ]
  },
  {
   "cell_type": "code",
   "execution_count": 25,
   "id": "8727ef4b",
   "metadata": {},
   "outputs": [
    {
     "name": "stdout",
     "output_type": "stream",
     "text": [
      "['Ammonium', 'Chloride', 'Coli-like-bacteria-Colilert', 'Colony-count-at-22-C', 'Escherichia-coli', 'Iron', 'Manganese', 'Sodium', 'Taste-dilution-degree', 'pH ']\n"
     ]
    }
   ],
   "source": [
    "train_df, test_df, X_train, y_train, X_val, y_val = data_sets(del_cols)\n",
    "print(X_train.columns.to_list())"
   ]
  }
 ],
 "metadata": {
  "kernelspec": {
   "display_name": "Python 3 (ipykernel)",
   "language": "python",
   "name": "python3"
  },
  "language_info": {
   "codemirror_mode": {
    "name": "ipython",
    "version": 3
   },
   "file_extension": ".py",
   "mimetype": "text/x-python",
   "name": "python",
   "nbconvert_exporter": "python",
   "pygments_lexer": "ipython3",
   "version": "3.9.12"
  }
 },
 "nbformat": 4,
 "nbformat_minor": 5
}
